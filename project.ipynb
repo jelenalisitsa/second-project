{
 "cells": [
  {
   "cell_type": "markdown",
   "metadata": {},
   "source": [
    "<div style=\"border:solid Chocolate 2px; padding: 40px\">\n",
    " \n",
    "<b> Елена, привет!👋</b>  \n",
    "\n",
    "Меня зовут Кирилл Васильев, я буду ревьюером твоего проекта. Я предлагаю общаться на «ты», но если привычнее на «вы», просто скажи об этом! \n",
    "\n",
    "Я буду оставлять комментарии в твоем проекте. Пожалуйста, не удаляй их, они могут быть полезны в случае повторной проверки.\n",
    "\n",
    "Свои комментарии я буду обозначать <font color='green'>зеленым</font>, <font color='gold'>желтым</font> и <font color='red'>красным</font> цветами, например:\n",
    "  \n",
    "<br/>\n",
    "\n",
    "<div class=\"alert alert-success\">\n",
    "<h2> Комментарий ревьюера будут тут<a class=\"tocSkip\"> </h2>\n",
    "\n",
    "<b>Все отлично!👍:</b> В случае, если решение на отдельном шаге является полностью правильным. Здесь же я могу давать советы и предложения.\n",
    "</div>\n",
    "\n",
    "<br/>\n",
    "\n",
    "<div class=\"alert alert-warning\">\n",
    "    <h2> Комментарий ревьюера оставим здесь<a class=\"tocSkip\"> </h2>\n",
    "    \n",
    "<b>Некоторые замечания и рекомендации💡:</b> В случае, когда решение на отдельном шаге станет еще лучше, если внести небольшие коррективы.\n",
    "</div>\n",
    "\n",
    "\n",
    "<br/>\n",
    "<div class=\"alert alert-block alert-danger\">\n",
    "<h2> Комментарий ревьюера <a class=\"tocSkip\"></h2>\n",
    "\n",
    "     \n",
    "<b>На доработку🤔:</b>\n",
    " В случае, когда решение на отдельном шаге требует существенной переработки и внесения правок. Напоминаю, что проект не может быть принят с первого раза, если ревью содержит комментарии, рекомендующие доработать шаги.\n",
    "</div>\n",
    "\n",
    "<br/>\n",
    "<div class=\"alert alert-info\">\n",
    "Рекомендую для твоих комментариев использовать синий или любой другой цветной фон. Я постараюсь ничего не пропустить, но если комментарии будут выделены, то это мне очень поможет!\n",
    "</div>\n",
    "    \n",
    "Увидев у тебя неточность, в первый раз я лишь укажу на ее наличие и дам тебе возможность самостоятельно найти и исправить ее. На реальной работе твой руководитель будет поступать также. Но если ты пока не справишься с такой задачей - при следующей проверке я дам более точную подсказку."
   ]
  },
  {
   "cell_type": "markdown",
   "metadata": {
    "toc": true
   },
   "source": [
    "<h1>Содержание<span class=\"tocSkip\"></span></h1>\n",
    "<div class=\"toc\"><ul class=\"toc-item\"><li><span><a href=\"#Подготовка-данных\" data-toc-modified-id=\"Подготовка-данных-1\"><span class=\"toc-item-num\">1&nbsp;&nbsp;</span>Подготовка данных</a></span></li><li><span><a href=\"#Исследование-задачи\" data-toc-modified-id=\"Исследование-задачи-2\"><span class=\"toc-item-num\">2&nbsp;&nbsp;</span>Исследование задачи</a></span></li><li><span><a href=\"#Борьба-с-дисбалансом\" data-toc-modified-id=\"Борьба-с-дисбалансом-3\"><span class=\"toc-item-num\">3&nbsp;&nbsp;</span>Борьба с дисбалансом</a></span></li><li><span><a href=\"#Тестирование-модели\" data-toc-modified-id=\"Тестирование-модели-4\"><span class=\"toc-item-num\">4&nbsp;&nbsp;</span>Тестирование модели</a></span></li><li><span><a href=\"#Чек-лист-готовности-проекта\" data-toc-modified-id=\"Чек-лист-готовности-проекта-5\"><span class=\"toc-item-num\">5&nbsp;&nbsp;</span>Чек-лист готовности проекта</a></span></li></ul></div>"
   ]
  },
  {
   "cell_type": "markdown",
   "metadata": {},
   "source": [
    "# Отток клиентов"
   ]
  },
  {
   "cell_type": "markdown",
   "metadata": {},
   "source": [
    "Из «Бета-Банка» стали уходить клиенты. Каждый месяц. Немного, но заметно. Банковские маркетологи посчитали: сохранять текущих клиентов дешевле, чем привлекать новых.\n",
    "\n",
    "Нужно спрогнозировать, уйдёт клиент из банка в ближайшее время или нет. Вам предоставлены исторические данные о поведении клиентов и расторжении договоров с банком. \n",
    "\n",
    "Постройте модель с предельно большим значением *F1*-меры. Чтобы сдать проект успешно, нужно довести метрику до 0.59. Проверьте *F1*-меру на тестовой выборке самостоятельно.\n",
    "\n",
    "Дополнительно измеряйте *AUC-ROC*, сравнивайте её значение с *F1*-мерой.\n",
    "\n",
    "Источник данных: [https://www.kaggle.com/barelydedicated/bank-customer-churn-modeling](https://www.kaggle.com/barelydedicated/bank-customer-churn-modeling)"
   ]
  },
  {
   "cell_type": "markdown",
   "metadata": {},
   "source": [
    "## Подготовка данных"
   ]
  },
  {
   "cell_type": "code",
   "execution_count": 1,
   "metadata": {},
   "outputs": [
    {
     "name": "stdout",
     "output_type": "stream",
     "text": [
      "Requirement already satisfied: scikit-learn==1.1.3 in /opt/conda/lib/python3.9/site-packages (1.1.3)\n",
      "Requirement already satisfied: joblib>=1.0.0 in /opt/conda/lib/python3.9/site-packages (from scikit-learn==1.1.3) (1.1.0)\n",
      "Requirement already satisfied: numpy>=1.17.3 in /opt/conda/lib/python3.9/site-packages (from scikit-learn==1.1.3) (1.21.1)\n",
      "Requirement already satisfied: scipy>=1.3.2 in /opt/conda/lib/python3.9/site-packages (from scikit-learn==1.1.3) (1.9.1)\n",
      "Requirement already satisfied: threadpoolctl>=2.0.0 in /opt/conda/lib/python3.9/site-packages (from scikit-learn==1.1.3) (3.1.0)\n"
     ]
    }
   ],
   "source": [
    "!pip install scikit-learn==1.1.3"
   ]
  },
  {
   "cell_type": "code",
   "execution_count": 142,
   "metadata": {},
   "outputs": [],
   "source": [
    "# импортируем все необходимые библиотеки\n",
    "import pandas as pd\n",
    "from sklearn.model_selection import train_test_split\n",
    "from sklearn.tree import DecisionTreeClassifier\n",
    "from sklearn.ensemble import RandomForestClassifier\n",
    "from sklearn.linear_model import LogisticRegression\n",
    "from sklearn.metrics import (\n",
    "    f1_score, \n",
    "    roc_auc_score, \n",
    "    roc_curve,\n",
    "    confusion_matrix)\n",
    "from sklearn.preprocessing import StandardScaler, OneHotEncoder\n",
    "from sklearn.utils import shuffle\n",
    "import matplotlib.pyplot as plt\n",
    "from sklearn.dummy import DummyClassifier"
   ]
  },
  {
   "cell_type": "markdown",
   "metadata": {},
   "source": [
    "<div class=\"alert alert-warning\">\n",
    "<h2> Комментарий ревьюера <a class=\"tocSkip\"> </h2>\n",
    "    \n",
    "<b>Некоторые замечания и рекомендации💡:</b> \n",
    "    \n",
    "Если это важно оставлять описание импортов, то в целом это не ошибка. Однако принято между импортами не оставлять пробелов в строках и комментариев.\n",
    "    \n",
    "Если загружаем несколько функций из одного пакета, то удобнее записать это через запятую.\n",
    "    \n",
    "`from sklearn.metrics import f1_score, roc_auc_score`\n",
    "    \n",
    "А если через запятую будет больше трех позиций, в таком случае здесь было бы идеально привести оформление в соответствие с <a href=\"https://pythonworld.ru/osnovy/pep-8-rukovodstvo-po-napisaniyu-koda-na-python.html\">pep8</a> - не оставлять длинных строк. \n",
    "\n",
    "Такое оформление предпочтительнее:    \n",
    "    \n",
    "`from sklearn.metrics import (\n",
    "    accuracy_score, \n",
    "    confusion_matrix, \n",
    "    f1_score,\n",
    "    roc_auc_score\n",
    ")`\n",
    "    \n",
    "        \n",
    "</div>\n"
   ]
  },
  {
   "cell_type": "markdown",
   "metadata": {},
   "source": [
    "<div class=\"alert alert-info\">\n",
    "Кирилл, здравствуй! Комментарий выше принят к сведению, спасибо!\n",
    "</div>"
   ]
  },
  {
   "cell_type": "markdown",
   "metadata": {},
   "source": [
    "\n",
    "<div class=\"alert alert-success\">\n",
    "<h2> Комментарий ревьюера #2 <a class=\"tocSkip\"> </h2>\n",
    "\n",
    "👍 Cнова привет. Спасибо за заметное оформление твоих комментариев. По импортам отлично.\n",
    "</div>"
   ]
  },
  {
   "cell_type": "code",
   "execution_count": 143,
   "metadata": {
    "scrolled": true
   },
   "outputs": [
    {
     "data": {
      "text/html": [
       "<div>\n",
       "<style scoped>\n",
       "    .dataframe tbody tr th:only-of-type {\n",
       "        vertical-align: middle;\n",
       "    }\n",
       "\n",
       "    .dataframe tbody tr th {\n",
       "        vertical-align: top;\n",
       "    }\n",
       "\n",
       "    .dataframe thead th {\n",
       "        text-align: right;\n",
       "    }\n",
       "</style>\n",
       "<table border=\"1\" class=\"dataframe\">\n",
       "  <thead>\n",
       "    <tr style=\"text-align: right;\">\n",
       "      <th></th>\n",
       "      <th>RowNumber</th>\n",
       "      <th>CustomerId</th>\n",
       "      <th>Surname</th>\n",
       "      <th>CreditScore</th>\n",
       "      <th>Geography</th>\n",
       "      <th>Gender</th>\n",
       "      <th>Age</th>\n",
       "      <th>Tenure</th>\n",
       "      <th>Balance</th>\n",
       "      <th>NumOfProducts</th>\n",
       "      <th>HasCrCard</th>\n",
       "      <th>IsActiveMember</th>\n",
       "      <th>EstimatedSalary</th>\n",
       "      <th>Exited</th>\n",
       "    </tr>\n",
       "  </thead>\n",
       "  <tbody>\n",
       "    <tr>\n",
       "      <th>6037</th>\n",
       "      <td>6038</td>\n",
       "      <td>15626452</td>\n",
       "      <td>Beatham</td>\n",
       "      <td>711</td>\n",
       "      <td>Spain</td>\n",
       "      <td>Male</td>\n",
       "      <td>32</td>\n",
       "      <td>5.0</td>\n",
       "      <td>0.00</td>\n",
       "      <td>2</td>\n",
       "      <td>1</td>\n",
       "      <td>1</td>\n",
       "      <td>147720.27</td>\n",
       "      <td>0</td>\n",
       "    </tr>\n",
       "    <tr>\n",
       "      <th>8603</th>\n",
       "      <td>8604</td>\n",
       "      <td>15702541</td>\n",
       "      <td>Fraser</td>\n",
       "      <td>551</td>\n",
       "      <td>France</td>\n",
       "      <td>Female</td>\n",
       "      <td>59</td>\n",
       "      <td>2.0</td>\n",
       "      <td>166968.28</td>\n",
       "      <td>1</td>\n",
       "      <td>1</td>\n",
       "      <td>0</td>\n",
       "      <td>159483.76</td>\n",
       "      <td>1</td>\n",
       "    </tr>\n",
       "    <tr>\n",
       "      <th>3477</th>\n",
       "      <td>3478</td>\n",
       "      <td>15701908</td>\n",
       "      <td>Nina</td>\n",
       "      <td>623</td>\n",
       "      <td>Spain</td>\n",
       "      <td>Female</td>\n",
       "      <td>40</td>\n",
       "      <td>7.0</td>\n",
       "      <td>0.00</td>\n",
       "      <td>1</td>\n",
       "      <td>1</td>\n",
       "      <td>1</td>\n",
       "      <td>25904.12</td>\n",
       "      <td>0</td>\n",
       "    </tr>\n",
       "    <tr>\n",
       "      <th>6629</th>\n",
       "      <td>6630</td>\n",
       "      <td>15734365</td>\n",
       "      <td>Hsueh</td>\n",
       "      <td>579</td>\n",
       "      <td>France</td>\n",
       "      <td>Male</td>\n",
       "      <td>39</td>\n",
       "      <td>5.0</td>\n",
       "      <td>0.00</td>\n",
       "      <td>2</td>\n",
       "      <td>0</td>\n",
       "      <td>1</td>\n",
       "      <td>39891.84</td>\n",
       "      <td>0</td>\n",
       "    </tr>\n",
       "    <tr>\n",
       "      <th>6670</th>\n",
       "      <td>6671</td>\n",
       "      <td>15667932</td>\n",
       "      <td>Bellucci</td>\n",
       "      <td>758</td>\n",
       "      <td>Spain</td>\n",
       "      <td>Female</td>\n",
       "      <td>43</td>\n",
       "      <td>10.0</td>\n",
       "      <td>0.00</td>\n",
       "      <td>2</td>\n",
       "      <td>1</td>\n",
       "      <td>1</td>\n",
       "      <td>55313.44</td>\n",
       "      <td>0</td>\n",
       "    </tr>\n",
       "    <tr>\n",
       "      <th>2252</th>\n",
       "      <td>2253</td>\n",
       "      <td>15604782</td>\n",
       "      <td>Tan</td>\n",
       "      <td>733</td>\n",
       "      <td>Germany</td>\n",
       "      <td>Female</td>\n",
       "      <td>33</td>\n",
       "      <td>7.0</td>\n",
       "      <td>187257.94</td>\n",
       "      <td>1</td>\n",
       "      <td>0</td>\n",
       "      <td>1</td>\n",
       "      <td>190430.81</td>\n",
       "      <td>0</td>\n",
       "    </tr>\n",
       "    <tr>\n",
       "      <th>579</th>\n",
       "      <td>580</td>\n",
       "      <td>15658032</td>\n",
       "      <td>Hopkins</td>\n",
       "      <td>701</td>\n",
       "      <td>France</td>\n",
       "      <td>Male</td>\n",
       "      <td>39</td>\n",
       "      <td>2.0</td>\n",
       "      <td>0.00</td>\n",
       "      <td>2</td>\n",
       "      <td>1</td>\n",
       "      <td>1</td>\n",
       "      <td>82526.92</td>\n",
       "      <td>0</td>\n",
       "    </tr>\n",
       "    <tr>\n",
       "      <th>4187</th>\n",
       "      <td>4188</td>\n",
       "      <td>15677785</td>\n",
       "      <td>Stevenson</td>\n",
       "      <td>656</td>\n",
       "      <td>Spain</td>\n",
       "      <td>Male</td>\n",
       "      <td>32</td>\n",
       "      <td>5.0</td>\n",
       "      <td>136963.12</td>\n",
       "      <td>1</td>\n",
       "      <td>1</td>\n",
       "      <td>0</td>\n",
       "      <td>133814.28</td>\n",
       "      <td>0</td>\n",
       "    </tr>\n",
       "    <tr>\n",
       "      <th>2856</th>\n",
       "      <td>2857</td>\n",
       "      <td>15813067</td>\n",
       "      <td>Williams</td>\n",
       "      <td>432</td>\n",
       "      <td>Germany</td>\n",
       "      <td>Female</td>\n",
       "      <td>45</td>\n",
       "      <td>3.0</td>\n",
       "      <td>110219.14</td>\n",
       "      <td>1</td>\n",
       "      <td>1</td>\n",
       "      <td>0</td>\n",
       "      <td>43046.70</td>\n",
       "      <td>1</td>\n",
       "    </tr>\n",
       "    <tr>\n",
       "      <th>5184</th>\n",
       "      <td>5185</td>\n",
       "      <td>15677146</td>\n",
       "      <td>Obiajulu</td>\n",
       "      <td>728</td>\n",
       "      <td>France</td>\n",
       "      <td>Female</td>\n",
       "      <td>28</td>\n",
       "      <td>4.0</td>\n",
       "      <td>142243.54</td>\n",
       "      <td>2</td>\n",
       "      <td>1</td>\n",
       "      <td>0</td>\n",
       "      <td>33074.51</td>\n",
       "      <td>0</td>\n",
       "    </tr>\n",
       "  </tbody>\n",
       "</table>\n",
       "</div>"
      ],
      "text/plain": [
       "      RowNumber  CustomerId    Surname  CreditScore Geography  Gender  Age  \\\n",
       "6037       6038    15626452    Beatham          711     Spain    Male   32   \n",
       "8603       8604    15702541     Fraser          551    France  Female   59   \n",
       "3477       3478    15701908       Nina          623     Spain  Female   40   \n",
       "6629       6630    15734365      Hsueh          579    France    Male   39   \n",
       "6670       6671    15667932   Bellucci          758     Spain  Female   43   \n",
       "2252       2253    15604782        Tan          733   Germany  Female   33   \n",
       "579         580    15658032    Hopkins          701    France    Male   39   \n",
       "4187       4188    15677785  Stevenson          656     Spain    Male   32   \n",
       "2856       2857    15813067   Williams          432   Germany  Female   45   \n",
       "5184       5185    15677146   Obiajulu          728    France  Female   28   \n",
       "\n",
       "      Tenure    Balance  NumOfProducts  HasCrCard  IsActiveMember  \\\n",
       "6037     5.0       0.00              2          1               1   \n",
       "8603     2.0  166968.28              1          1               0   \n",
       "3477     7.0       0.00              1          1               1   \n",
       "6629     5.0       0.00              2          0               1   \n",
       "6670    10.0       0.00              2          1               1   \n",
       "2252     7.0  187257.94              1          0               1   \n",
       "579      2.0       0.00              2          1               1   \n",
       "4187     5.0  136963.12              1          1               0   \n",
       "2856     3.0  110219.14              1          1               0   \n",
       "5184     4.0  142243.54              2          1               0   \n",
       "\n",
       "      EstimatedSalary  Exited  \n",
       "6037        147720.27       0  \n",
       "8603        159483.76       1  \n",
       "3477         25904.12       0  \n",
       "6629         39891.84       0  \n",
       "6670         55313.44       0  \n",
       "2252        190430.81       0  \n",
       "579          82526.92       0  \n",
       "4187        133814.28       0  \n",
       "2856         43046.70       1  \n",
       "5184         33074.51       0  "
      ]
     },
     "metadata": {},
     "output_type": "display_data"
    }
   ],
   "source": [
    "data = pd.read_csv('/datasets/Churn.csv')\n",
    "display(data.sample(10))"
   ]
  },
  {
   "cell_type": "markdown",
   "metadata": {},
   "source": [
    "В данном проекте решается задача бинарной классификации - определения факта уйдёт ли клиент из банка в ближайшее время или нет, на основе поведения пользователя: Exited 1/0. \n",
    "Обучение - Supervised learning.\n",
    "Проверим, есть ли пропуски методом info()"
   ]
  },
  {
   "cell_type": "code",
   "execution_count": 144,
   "metadata": {},
   "outputs": [
    {
     "name": "stdout",
     "output_type": "stream",
     "text": [
      "<class 'pandas.core.frame.DataFrame'>\n",
      "RangeIndex: 10000 entries, 0 to 9999\n",
      "Data columns (total 14 columns):\n",
      " #   Column           Non-Null Count  Dtype  \n",
      "---  ------           --------------  -----  \n",
      " 0   RowNumber        10000 non-null  int64  \n",
      " 1   CustomerId       10000 non-null  int64  \n",
      " 2   Surname          10000 non-null  object \n",
      " 3   CreditScore      10000 non-null  int64  \n",
      " 4   Geography        10000 non-null  object \n",
      " 5   Gender           10000 non-null  object \n",
      " 6   Age              10000 non-null  int64  \n",
      " 7   Tenure           9091 non-null   float64\n",
      " 8   Balance          10000 non-null  float64\n",
      " 9   NumOfProducts    10000 non-null  int64  \n",
      " 10  HasCrCard        10000 non-null  int64  \n",
      " 11  IsActiveMember   10000 non-null  int64  \n",
      " 12  EstimatedSalary  10000 non-null  float64\n",
      " 13  Exited           10000 non-null  int64  \n",
      "dtypes: float64(3), int64(8), object(3)\n",
      "memory usage: 1.1+ MB\n"
     ]
    }
   ],
   "source": [
    "data.info()"
   ]
  },
  {
   "cell_type": "markdown",
   "metadata": {},
   "source": [
    "Eсть пропуски в стоблце Tenure (сколько лет человек является клиентом банка). Пока оставим как есть.\n",
    "Cреди признаков есть столбцы RowNumber, CustomerId и Surname, которые не несут в себе полезной информации для постороения модели, их можно дропнуть."
   ]
  },
  {
   "cell_type": "code",
   "execution_count": 145,
   "metadata": {},
   "outputs": [],
   "source": [
    "data.drop([\"RowNumber\", \"CustomerId\", \"Surname\"], axis=1, inplace=True)"
   ]
  },
  {
   "cell_type": "markdown",
   "metadata": {},
   "source": [
    "<div class=\"alert alert-success\">\n",
    "<h2> Комментарий ревьюера <a class=\"tocSkip\"> </h2>\n",
    "\n",
    "👍 Отлично \n",
    "</div> \n",
    "   "
   ]
  },
  {
   "cell_type": "markdown",
   "metadata": {},
   "source": [
    "С помощью метода value_counts() проверим есть ли в целевом признаке дисбаланс классов.\n",
    "Также надо проверить выборку на дубликаты, т.к. распространенным явлением, почему появился дисбаланс классов – это наличие дубликатов в выборке. Логичным действием в такой ситуации является их удаление с помощью drop_duplicates(). \n",
    "Дисбалансом принято считать существенную разницу в количественном представлении классов в выборке. Разница в 10-20% не будет считаться дисбалансом, Итого, удалим дубликаты и посчитаем, есть ли количественный перевес представления классов (1/0) в выборке. "
   ]
  },
  {
   "cell_type": "markdown",
   "metadata": {},
   "source": [
    "<div class=\"alert alert-success\"> \n",
    "<h2> Комментарий ревьюера <a class=\"tocSkip\"> </h2>\n",
    "\n",
    "👍 По аргументации с обработкой пропусков все отлично.\n",
    "</div>  "
   ]
  },
  {
   "cell_type": "code",
   "execution_count": 146,
   "metadata": {},
   "outputs": [
    {
     "name": "stdout",
     "output_type": "stream",
     "text": [
      "<class 'pandas.core.frame.DataFrame'>\n",
      "RangeIndex: 10000 entries, 0 to 9999\n",
      "Data columns (total 11 columns):\n",
      " #   Column           Non-Null Count  Dtype  \n",
      "---  ------           --------------  -----  \n",
      " 0   CreditScore      10000 non-null  int64  \n",
      " 1   Geography        10000 non-null  object \n",
      " 2   Gender           10000 non-null  object \n",
      " 3   Age              10000 non-null  int64  \n",
      " 4   Tenure           9091 non-null   float64\n",
      " 5   Balance          10000 non-null  float64\n",
      " 6   NumOfProducts    10000 non-null  int64  \n",
      " 7   HasCrCard        10000 non-null  int64  \n",
      " 8   IsActiveMember   10000 non-null  int64  \n",
      " 9   EstimatedSalary  10000 non-null  float64\n",
      " 10  Exited           10000 non-null  int64  \n",
      "dtypes: float64(3), int64(6), object(2)\n",
      "memory usage: 859.5+ KB\n"
     ]
    },
    {
     "data": {
      "text/plain": [
       "Exited\n",
       "0         7963\n",
       "1         2037\n",
       "dtype: int64"
      ]
     },
     "execution_count": 146,
     "metadata": {},
     "output_type": "execute_result"
    }
   ],
   "source": [
    "data.drop_duplicates()\n",
    "data.info()\n",
    "data.value_counts(['Exited'])"
   ]
  },
  {
   "cell_type": "markdown",
   "metadata": {},
   "source": [
    "Перевес значений 0 практически в 4 раза, таким образом в наших целевых признаках есть существенный дисбаланс. С ним мы поработаем далее."
   ]
  },
  {
   "cell_type": "markdown",
   "metadata": {},
   "source": [
    "<div class=\"alert alert-success\"> \n",
    "<h2> Комментарий ревьюера <a class=\"tocSkip\"> </h2>\n",
    "\n",
    "👍 Ага, дисбаланс исследовали, запомнили. Понадобится ниже.\n",
    "</div>  "
   ]
  },
  {
   "cell_type": "code",
   "execution_count": 147,
   "metadata": {},
   "outputs": [
    {
     "data": {
      "text/html": [
       "<div>\n",
       "<style scoped>\n",
       "    .dataframe tbody tr th:only-of-type {\n",
       "        vertical-align: middle;\n",
       "    }\n",
       "\n",
       "    .dataframe tbody tr th {\n",
       "        vertical-align: top;\n",
       "    }\n",
       "\n",
       "    .dataframe thead th {\n",
       "        text-align: right;\n",
       "    }\n",
       "</style>\n",
       "<table border=\"1\" class=\"dataframe\">\n",
       "  <thead>\n",
       "    <tr style=\"text-align: right;\">\n",
       "      <th></th>\n",
       "      <th>CreditScore</th>\n",
       "      <th>Geography</th>\n",
       "      <th>Gender</th>\n",
       "      <th>Age</th>\n",
       "      <th>Tenure</th>\n",
       "      <th>Balance</th>\n",
       "      <th>NumOfProducts</th>\n",
       "      <th>HasCrCard</th>\n",
       "      <th>IsActiveMember</th>\n",
       "      <th>EstimatedSalary</th>\n",
       "      <th>Exited</th>\n",
       "    </tr>\n",
       "  </thead>\n",
       "  <tbody>\n",
       "    <tr>\n",
       "      <th>5996</th>\n",
       "      <td>638</td>\n",
       "      <td>Germany</td>\n",
       "      <td>Male</td>\n",
       "      <td>62</td>\n",
       "      <td>4.0</td>\n",
       "      <td>108716.59</td>\n",
       "      <td>2</td>\n",
       "      <td>1</td>\n",
       "      <td>1</td>\n",
       "      <td>74241.09</td>\n",
       "      <td>0</td>\n",
       "    </tr>\n",
       "    <tr>\n",
       "      <th>1413</th>\n",
       "      <td>503</td>\n",
       "      <td>Germany</td>\n",
       "      <td>Male</td>\n",
       "      <td>30</td>\n",
       "      <td>10.0</td>\n",
       "      <td>136622.55</td>\n",
       "      <td>2</td>\n",
       "      <td>0</td>\n",
       "      <td>0</td>\n",
       "      <td>47310.24</td>\n",
       "      <td>0</td>\n",
       "    </tr>\n",
       "    <tr>\n",
       "      <th>8929</th>\n",
       "      <td>569</td>\n",
       "      <td>France</td>\n",
       "      <td>Female</td>\n",
       "      <td>35</td>\n",
       "      <td>NaN</td>\n",
       "      <td>93934.63</td>\n",
       "      <td>1</td>\n",
       "      <td>1</td>\n",
       "      <td>0</td>\n",
       "      <td>184748.23</td>\n",
       "      <td>0</td>\n",
       "    </tr>\n",
       "    <tr>\n",
       "      <th>6478</th>\n",
       "      <td>850</td>\n",
       "      <td>France</td>\n",
       "      <td>Male</td>\n",
       "      <td>35</td>\n",
       "      <td>9.0</td>\n",
       "      <td>102050.47</td>\n",
       "      <td>1</td>\n",
       "      <td>1</td>\n",
       "      <td>1</td>\n",
       "      <td>3769.71</td>\n",
       "      <td>0</td>\n",
       "    </tr>\n",
       "    <tr>\n",
       "      <th>5666</th>\n",
       "      <td>636</td>\n",
       "      <td>Spain</td>\n",
       "      <td>Male</td>\n",
       "      <td>60</td>\n",
       "      <td>7.0</td>\n",
       "      <td>124447.73</td>\n",
       "      <td>1</td>\n",
       "      <td>1</td>\n",
       "      <td>1</td>\n",
       "      <td>141364.62</td>\n",
       "      <td>1</td>\n",
       "    </tr>\n",
       "    <tr>\n",
       "      <th>5131</th>\n",
       "      <td>664</td>\n",
       "      <td>France</td>\n",
       "      <td>Male</td>\n",
       "      <td>40</td>\n",
       "      <td>7.0</td>\n",
       "      <td>125608.72</td>\n",
       "      <td>1</td>\n",
       "      <td>1</td>\n",
       "      <td>0</td>\n",
       "      <td>122073.48</td>\n",
       "      <td>0</td>\n",
       "    </tr>\n",
       "    <tr>\n",
       "      <th>726</th>\n",
       "      <td>580</td>\n",
       "      <td>France</td>\n",
       "      <td>Male</td>\n",
       "      <td>37</td>\n",
       "      <td>9.0</td>\n",
       "      <td>0.00</td>\n",
       "      <td>2</td>\n",
       "      <td>0</td>\n",
       "      <td>1</td>\n",
       "      <td>77108.66</td>\n",
       "      <td>0</td>\n",
       "    </tr>\n",
       "    <tr>\n",
       "      <th>2602</th>\n",
       "      <td>594</td>\n",
       "      <td>Germany</td>\n",
       "      <td>Male</td>\n",
       "      <td>28</td>\n",
       "      <td>0.0</td>\n",
       "      <td>142574.71</td>\n",
       "      <td>2</td>\n",
       "      <td>1</td>\n",
       "      <td>0</td>\n",
       "      <td>129084.82</td>\n",
       "      <td>0</td>\n",
       "    </tr>\n",
       "    <tr>\n",
       "      <th>7363</th>\n",
       "      <td>603</td>\n",
       "      <td>France</td>\n",
       "      <td>Male</td>\n",
       "      <td>40</td>\n",
       "      <td>4.0</td>\n",
       "      <td>102833.46</td>\n",
       "      <td>2</td>\n",
       "      <td>1</td>\n",
       "      <td>1</td>\n",
       "      <td>38829.11</td>\n",
       "      <td>0</td>\n",
       "    </tr>\n",
       "    <tr>\n",
       "      <th>9080</th>\n",
       "      <td>711</td>\n",
       "      <td>France</td>\n",
       "      <td>Female</td>\n",
       "      <td>81</td>\n",
       "      <td>6.0</td>\n",
       "      <td>0.00</td>\n",
       "      <td>2</td>\n",
       "      <td>1</td>\n",
       "      <td>1</td>\n",
       "      <td>72276.24</td>\n",
       "      <td>0</td>\n",
       "    </tr>\n",
       "  </tbody>\n",
       "</table>\n",
       "</div>"
      ],
      "text/plain": [
       "      CreditScore Geography  Gender  Age  Tenure    Balance  NumOfProducts  \\\n",
       "5996          638   Germany    Male   62     4.0  108716.59              2   \n",
       "1413          503   Germany    Male   30    10.0  136622.55              2   \n",
       "8929          569    France  Female   35     NaN   93934.63              1   \n",
       "6478          850    France    Male   35     9.0  102050.47              1   \n",
       "5666          636     Spain    Male   60     7.0  124447.73              1   \n",
       "5131          664    France    Male   40     7.0  125608.72              1   \n",
       "726           580    France    Male   37     9.0       0.00              2   \n",
       "2602          594   Germany    Male   28     0.0  142574.71              2   \n",
       "7363          603    France    Male   40     4.0  102833.46              2   \n",
       "9080          711    France  Female   81     6.0       0.00              2   \n",
       "\n",
       "      HasCrCard  IsActiveMember  EstimatedSalary  Exited  \n",
       "5996          1               1         74241.09       0  \n",
       "1413          0               0         47310.24       0  \n",
       "8929          1               0        184748.23       0  \n",
       "6478          1               1          3769.71       0  \n",
       "5666          1               1        141364.62       1  \n",
       "5131          1               0        122073.48       0  \n",
       "726           0               1         77108.66       0  \n",
       "2602          1               0        129084.82       0  \n",
       "7363          1               1         38829.11       0  \n",
       "9080          1               1         72276.24       0  "
      ]
     },
     "metadata": {},
     "output_type": "display_data"
    }
   ],
   "source": [
    "display(data.sample(10))"
   ]
  },
  {
   "cell_type": "markdown",
   "metadata": {},
   "source": [
    "В столбцах Geography и Gender присутствуют категориальные значения, с помощью техники прямого кодирования переведем их в численные значения, но после разделения выборок."
   ]
  },
  {
   "cell_type": "code",
   "execution_count": 148,
   "metadata": {},
   "outputs": [],
   "source": [
    "#data = pd.get_dummies(data, columns=['Geography', 'Gender'], drop_first=True)"
   ]
  },
  {
   "cell_type": "markdown",
   "metadata": {},
   "source": [
    "<div class=\"alert alert-success\">\n",
    "<h2> Комментарий ревьюера <a class=\"tocSkip\"> </h2>\n",
    "\n",
    "👍 Согласен. В дамми-ловушку не попались.\n",
    "</div>\n"
   ]
  },
  {
   "cell_type": "markdown",
   "metadata": {},
   "source": [
    "<div class=\"alert alert-warning\">\n",
    "<h2> Комментарий ревьюера <a class=\"tocSkip\"> </h2>\n",
    "    \n",
    "<b>Некоторые замечания и рекомендации💡:</b> \n",
    "\n",
    "В тренажере давался пример использования прямого кодирования с помощью get_dummies, однако это далеко не самый оптимальный вариант. Он подходит для анализа данных, но в машинном обучении может служить причиной ошибок при обучении моделей.\n",
    "    \n",
    "Можно использовать класс <a href=\"https://scikit-learn.org/stable/modules/generated/sklearn.preprocessing.OneHotEncoder.html\">OHE из sklearn</a>. Он точно понадобится в будущих проектах, можно потренироваться сейчас. \n",
    "\n",
    "Практикум подготовил инструкцию, как использовать OHE: https://colab.research.google.com/drive/1_gAMXcQKoCShB_l8FNtYEejMnosm9mvt?usp=sharing \n",
    "\n",
    "А теперь замечания «под звездочкой»:\n",
    "\n",
    "Есть загвоздка, что нам нужно будет одновременно использовать параметры drop='first' и handle_unknown='ignore’.  в OHE, а на платформе такое сочетание может выдавать ошибку (в части случаев). Если ошибка появляется, необходимо загрузить нужную версию сайкит-лерна. Для этого:\n",
    "\n",
    "1. В отдельной строке в самом начале проекта запускаем такую команду:\n",
    " `!pip install scikit-learn==1.1.3`\n",
    "     \n",
    "2. Находим в меню юпитера кнопку `Kernel`, нажимаем и выбираем Restart&Run all \n",
    "\n",
    "\n",
    "И сразу уточню, что OHE мы используем уже после разделения выборок на обучающую, валидационную и тестовую. Обучаем на трейне, применяем ко всем. Кодируем после разбиения по аналогии с масштабированием. Посмотреть поподробнее также <a href=\"https://stackoverflow.com/questions/55525195/do-i-have-to-do-one-hot-encoding-separately-for-train-and-test-dataset\">можно здесь</a> .\n",
    "      \n",
    "</div> \n",
    "\n",
    " "
   ]
  },
  {
   "cell_type": "markdown",
   "metadata": {},
   "source": [
    "<div class=\"alert alert-info\">\n",
    "Принято, попробую реализовать ниже\n",
    "</div>"
   ]
  },
  {
   "cell_type": "markdown",
   "metadata": {},
   "source": [
    "Приведем столбцы к единому количеству строк, дропнув те, что содержат пустые значения Tenure."
   ]
  },
  {
   "cell_type": "code",
   "execution_count": 149,
   "metadata": {},
   "outputs": [
    {
     "name": "stdout",
     "output_type": "stream",
     "text": [
      "<class 'pandas.core.frame.DataFrame'>\n",
      "Int64Index: 9091 entries, 0 to 9998\n",
      "Data columns (total 11 columns):\n",
      " #   Column           Non-Null Count  Dtype  \n",
      "---  ------           --------------  -----  \n",
      " 0   CreditScore      9091 non-null   int64  \n",
      " 1   Geography        9091 non-null   object \n",
      " 2   Gender           9091 non-null   object \n",
      " 3   Age              9091 non-null   int64  \n",
      " 4   Tenure           9091 non-null   float64\n",
      " 5   Balance          9091 non-null   float64\n",
      " 6   NumOfProducts    9091 non-null   int64  \n",
      " 7   HasCrCard        9091 non-null   int64  \n",
      " 8   IsActiveMember   9091 non-null   int64  \n",
      " 9   EstimatedSalary  9091 non-null   float64\n",
      " 10  Exited           9091 non-null   int64  \n",
      "dtypes: float64(3), int64(6), object(2)\n",
      "memory usage: 852.3+ KB\n"
     ]
    }
   ],
   "source": [
    "data = data.loc[~(data['Tenure'].isna())]\n",
    "data.info()"
   ]
  },
  {
   "cell_type": "markdown",
   "metadata": {},
   "source": [
    "<div class=\"alert alert-success\"> \n",
    "<h2> Комментарий ревьюера <a class=\"tocSkip\"> </h2>\n",
    "\n",
    "👍 Согласен. \n",
    "</div>  "
   ]
  },
  {
   "cell_type": "markdown",
   "metadata": {},
   "source": [
    "В данном разделе мы подготовили данные для дальнейшего использования их в обучении моделей.\n",
    "Необходимо разбить датасет на features и target, для столбцов с численными значениями произвести стандартизацию значений. Также необходимо помнить о дисбалансе классов в целевом признаке. После выполним деление на тестовые и валидационные выборки и проверим f1-меру нескольких обученных моделей без учёта дисбаланса."
   ]
  },
  {
   "cell_type": "markdown",
   "metadata": {},
   "source": [
    "## Исследование задачи"
   ]
  },
  {
   "cell_type": "markdown",
   "metadata": {},
   "source": [
    "Выделим из нашего датасета features и target и разделим эти датасеты в свою очередь на тренировочные, валидационные и тестовые. Также произведем фиксацию random_state, чтобы при всех последующих запусках нашего кода подвыборки были идентичными. На предыдущем шаге мы также выяснили, что у нас имеется дисбаланс классов, поэтому применим параметр stratify при делении дата сета с помощью функции train_test_split, соответственно гиперпризнак stratify=target обеспечит сохранение аналогичной пропорции в каждом новом сете (train, valid и test) при делении исходного датасета."
   ]
  },
  {
   "cell_type": "code",
   "execution_count": 150,
   "metadata": {},
   "outputs": [
    {
     "name": "stdout",
     "output_type": "stream",
     "text": [
      "(5817,) (1455,) (1819,)\n"
     ]
    }
   ],
   "source": [
    "target = data['Exited']\n",
    "features = data.drop('Exited', axis=1)\n",
    "# делим в 2 этапа на следюущие части: train = 0.6, valid и test по 0.2\n",
    "features_temp, features_test, target_temp, target_test = train_test_split(\n",
    "    features, target, test_size=0.2, random_state=12345, stratify = target)\n",
    "features_train, features_valid, target_train, target_valid = train_test_split(\n",
    "    features_temp, target_temp, test_size=0.2, random_state=12345, stratify = target_temp)\n",
    "# выведем размеры получившихся датасетов\n",
    "print(target_train.shape, target_valid.shape, target_test.shape)\n",
    "# Первое значение - количество строк, второе - столбцов для каждого датасета: train / valid / test"
   ]
  },
  {
   "cell_type": "markdown",
   "metadata": {},
   "source": [
    "<div class=\"alert alert-success\">\n",
    "<h2> Комментарий ревьюера <a class=\"tocSkip\"> </h2>\n",
    "\n",
    "👍 С разбиением на выборки согласен. \n",
    "</div>"
   ]
  },
  {
   "cell_type": "markdown",
   "metadata": {},
   "source": [
    "Как было отмечено выше, в столбцах Geography и Gender присутствуют категориальные значения, их нужно перевести в численные значения."
   ]
  },
  {
   "cell_type": "code",
   "execution_count": 151,
   "metadata": {},
   "outputs": [
    {
     "name": "stdout",
     "output_type": "stream",
     "text": [
      "['Geography', 'Gender']\n"
     ]
    }
   ],
   "source": [
    "ohe_features = features_train.select_dtypes(include='object').columns.to_list()\n",
    "print(ohe_features)"
   ]
  },
  {
   "cell_type": "markdown",
   "metadata": {},
   "source": [
    "Также в наших features есть столбцы Age, Balance, CreditScore и EstimatedSalary. И у численных признаков из этих столбцов разный масштаб: значения их разнятся, поэтому алгоритм может автоматически решить, что какой-то признак важнее другого. Чтобы нивелировать эту разницу, воспользуемся методом StandardScaler(). Применим метод только к выбранным столбцам."
   ]
  },
  {
   "cell_type": "code",
   "execution_count": 152,
   "metadata": {},
   "outputs": [],
   "source": [
    "features_train_ohe = features_train.copy()\n",
    "features_valid_ohe = features_valid.copy()\n",
    "features_test_ohe = features_test.copy()\n",
    "\n",
    "# drop='first' удаляет первый признак из закодированных:\n",
    "# таким образом обходим dummy-ловушку\n",
    "# задаём handle_unknown='ignore':\n",
    "# игнорируется ранее невстречающиеся значения признака (при transform)\n",
    "encoder_ohe = OneHotEncoder(drop='first', handle_unknown='ignore', sparse=False)\n",
    "\n",
    "# обучаем энкодер на заданных категориальных признаках тренировочной выборки\n",
    "encoder_ohe.fit(features_train[ohe_features])\n",
    "\n",
    "# добавляем закодированные признаки\n",
    "#encoder_ohe.get_feature_names_out() позволяет получить названия колонок\n",
    "features_train_ohe[\n",
    "    encoder_ohe.get_feature_names_out()\n",
    "] = encoder_ohe.transform(features_train_ohe[ohe_features])\n",
    "\n",
    "# удаляем незакодированные категориальные признаки (изначальные колонки)\n",
    "features_train_ohe = features_train_ohe.drop(ohe_features, axis=1)\n",
    "\n",
    "# энкодером, который обучен на ТРЕНИРОВОЧНОЙ ВЫБОРКЕ, кодируем валидационную и тестовую\n",
    "features_valid_ohe[\n",
    "    encoder_ohe.get_feature_names_out()\n",
    "] = encoder_ohe.transform(features_valid_ohe[ohe_features])\n",
    "\n",
    "features_valid_ohe = features_valid_ohe.drop(ohe_features, axis=1)\n",
    "\n",
    "features_test_ohe[\n",
    "    encoder_ohe.get_feature_names_out()\n",
    "] = encoder_ohe.transform(features_test_ohe[ohe_features])\n",
    "\n",
    "features_test_ohe = features_test_ohe.drop(ohe_features, axis=1)\n",
    "\n",
    "# создаём скелер\n",
    "scaler = StandardScaler()\n",
    "numeric = ['CreditScore', 'Age', 'Tenure', 'Balance', 'EstimatedSalary']\n",
    "scaler.fit(features_train_ohe[numeric])\n",
    "\n",
    "# скелером, который обучен на ТРЕНИРОВОЧНОЙ ВЫБОРКЕ, масштабируем выборки\n",
    "features_train_ohe[numeric] = scaler.transform(features_train_ohe[numeric])\n",
    "features_valid_ohe[numeric] = scaler.transform(features_valid_ohe[numeric])\n",
    "features_test_ohe[numeric] = scaler.transform(features_test_ohe[numeric])\n",
    "\n",
    "features_train = features_train_ohe\n",
    "features_valid = features_valid_ohe\n",
    "features_test = features_test_ohe"
   ]
  },
  {
   "cell_type": "markdown",
   "metadata": {},
   "source": [
    "<div class=\"alert alert-success\">\n",
    "<h2> Комментарий ревьюера #2 <a class=\"tocSkip\"> </h2>\n",
    "\n",
    "👍 Здесь все отлично.\n",
    "</div>\n"
   ]
  },
  {
   "cell_type": "code",
   "execution_count": 153,
   "metadata": {
    "scrolled": true
   },
   "outputs": [
    {
     "data": {
      "text/html": [
       "<div>\n",
       "<style scoped>\n",
       "    .dataframe tbody tr th:only-of-type {\n",
       "        vertical-align: middle;\n",
       "    }\n",
       "\n",
       "    .dataframe tbody tr th {\n",
       "        vertical-align: top;\n",
       "    }\n",
       "\n",
       "    .dataframe thead th {\n",
       "        text-align: right;\n",
       "    }\n",
       "</style>\n",
       "<table border=\"1\" class=\"dataframe\">\n",
       "  <thead>\n",
       "    <tr style=\"text-align: right;\">\n",
       "      <th></th>\n",
       "      <th>CreditScore</th>\n",
       "      <th>Age</th>\n",
       "      <th>Tenure</th>\n",
       "      <th>Balance</th>\n",
       "      <th>NumOfProducts</th>\n",
       "      <th>HasCrCard</th>\n",
       "      <th>IsActiveMember</th>\n",
       "      <th>EstimatedSalary</th>\n",
       "      <th>Geography_Germany</th>\n",
       "      <th>Geography_Spain</th>\n",
       "      <th>Gender_Male</th>\n",
       "    </tr>\n",
       "  </thead>\n",
       "  <tbody>\n",
       "    <tr>\n",
       "      <th>172</th>\n",
       "      <td>-1.785140</td>\n",
       "      <td>0.479292</td>\n",
       "      <td>1.725480</td>\n",
       "      <td>0.862805</td>\n",
       "      <td>1</td>\n",
       "      <td>1</td>\n",
       "      <td>0</td>\n",
       "      <td>-1.635278</td>\n",
       "      <td>1.0</td>\n",
       "      <td>0.0</td>\n",
       "      <td>1.0</td>\n",
       "    </tr>\n",
       "    <tr>\n",
       "      <th>6063</th>\n",
       "      <td>1.152063</td>\n",
       "      <td>-0.746387</td>\n",
       "      <td>0.691649</td>\n",
       "      <td>0.671071</td>\n",
       "      <td>1</td>\n",
       "      <td>1</td>\n",
       "      <td>1</td>\n",
       "      <td>1.037456</td>\n",
       "      <td>0.0</td>\n",
       "      <td>0.0</td>\n",
       "      <td>1.0</td>\n",
       "    </tr>\n",
       "    <tr>\n",
       "      <th>2495</th>\n",
       "      <td>-1.930958</td>\n",
       "      <td>1.610688</td>\n",
       "      <td>-1.031402</td>\n",
       "      <td>0.578315</td>\n",
       "      <td>3</td>\n",
       "      <td>1</td>\n",
       "      <td>0</td>\n",
       "      <td>1.702543</td>\n",
       "      <td>1.0</td>\n",
       "      <td>0.0</td>\n",
       "      <td>0.0</td>\n",
       "    </tr>\n",
       "    <tr>\n",
       "      <th>9222</th>\n",
       "      <td>-0.962306</td>\n",
       "      <td>-1.029236</td>\n",
       "      <td>-0.686791</td>\n",
       "      <td>1.047617</td>\n",
       "      <td>1</td>\n",
       "      <td>1</td>\n",
       "      <td>1</td>\n",
       "      <td>-1.459241</td>\n",
       "      <td>0.0</td>\n",
       "      <td>0.0</td>\n",
       "      <td>1.0</td>\n",
       "    </tr>\n",
       "    <tr>\n",
       "      <th>1943</th>\n",
       "      <td>0.797932</td>\n",
       "      <td>0.007877</td>\n",
       "      <td>0.347039</td>\n",
       "      <td>1.225876</td>\n",
       "      <td>1</td>\n",
       "      <td>0</td>\n",
       "      <td>0</td>\n",
       "      <td>1.069749</td>\n",
       "      <td>1.0</td>\n",
       "      <td>0.0</td>\n",
       "      <td>1.0</td>\n",
       "    </tr>\n",
       "    <tr>\n",
       "      <th>...</th>\n",
       "      <td>...</td>\n",
       "      <td>...</td>\n",
       "      <td>...</td>\n",
       "      <td>...</td>\n",
       "      <td>...</td>\n",
       "      <td>...</td>\n",
       "      <td>...</td>\n",
       "      <td>...</td>\n",
       "      <td>...</td>\n",
       "      <td>...</td>\n",
       "      <td>...</td>\n",
       "    </tr>\n",
       "    <tr>\n",
       "      <th>6453</th>\n",
       "      <td>-0.889397</td>\n",
       "      <td>0.479292</td>\n",
       "      <td>0.002429</td>\n",
       "      <td>1.052918</td>\n",
       "      <td>2</td>\n",
       "      <td>0</td>\n",
       "      <td>0</td>\n",
       "      <td>-0.542086</td>\n",
       "      <td>1.0</td>\n",
       "      <td>0.0</td>\n",
       "      <td>0.0</td>\n",
       "    </tr>\n",
       "    <tr>\n",
       "      <th>6916</th>\n",
       "      <td>0.027177</td>\n",
       "      <td>-1.406368</td>\n",
       "      <td>1.036260</td>\n",
       "      <td>1.111666</td>\n",
       "      <td>1</td>\n",
       "      <td>1</td>\n",
       "      <td>1</td>\n",
       "      <td>0.529051</td>\n",
       "      <td>0.0</td>\n",
       "      <td>0.0</td>\n",
       "      <td>0.0</td>\n",
       "    </tr>\n",
       "    <tr>\n",
       "      <th>969</th>\n",
       "      <td>-0.024901</td>\n",
       "      <td>2.930650</td>\n",
       "      <td>1.380870</td>\n",
       "      <td>0.657680</td>\n",
       "      <td>2</td>\n",
       "      <td>0</td>\n",
       "      <td>1</td>\n",
       "      <td>0.130424</td>\n",
       "      <td>1.0</td>\n",
       "      <td>0.0</td>\n",
       "      <td>1.0</td>\n",
       "    </tr>\n",
       "    <tr>\n",
       "      <th>3457</th>\n",
       "      <td>0.058424</td>\n",
       "      <td>-0.274972</td>\n",
       "      <td>1.036260</td>\n",
       "      <td>1.805816</td>\n",
       "      <td>2</td>\n",
       "      <td>0</td>\n",
       "      <td>0</td>\n",
       "      <td>1.449366</td>\n",
       "      <td>0.0</td>\n",
       "      <td>1.0</td>\n",
       "      <td>1.0</td>\n",
       "    </tr>\n",
       "    <tr>\n",
       "      <th>1564</th>\n",
       "      <td>1.266635</td>\n",
       "      <td>0.290726</td>\n",
       "      <td>1.036260</td>\n",
       "      <td>1.228158</td>\n",
       "      <td>2</td>\n",
       "      <td>1</td>\n",
       "      <td>0</td>\n",
       "      <td>1.252648</td>\n",
       "      <td>1.0</td>\n",
       "      <td>0.0</td>\n",
       "      <td>0.0</td>\n",
       "    </tr>\n",
       "  </tbody>\n",
       "</table>\n",
       "<p>1819 rows × 11 columns</p>\n",
       "</div>"
      ],
      "text/plain": [
       "      CreditScore       Age    Tenure   Balance  NumOfProducts  HasCrCard  \\\n",
       "172     -1.785140  0.479292  1.725480  0.862805              1          1   \n",
       "6063     1.152063 -0.746387  0.691649  0.671071              1          1   \n",
       "2495    -1.930958  1.610688 -1.031402  0.578315              3          1   \n",
       "9222    -0.962306 -1.029236 -0.686791  1.047617              1          1   \n",
       "1943     0.797932  0.007877  0.347039  1.225876              1          0   \n",
       "...           ...       ...       ...       ...            ...        ...   \n",
       "6453    -0.889397  0.479292  0.002429  1.052918              2          0   \n",
       "6916     0.027177 -1.406368  1.036260  1.111666              1          1   \n",
       "969     -0.024901  2.930650  1.380870  0.657680              2          0   \n",
       "3457     0.058424 -0.274972  1.036260  1.805816              2          0   \n",
       "1564     1.266635  0.290726  1.036260  1.228158              2          1   \n",
       "\n",
       "      IsActiveMember  EstimatedSalary  Geography_Germany  Geography_Spain  \\\n",
       "172                0        -1.635278                1.0              0.0   \n",
       "6063               1         1.037456                0.0              0.0   \n",
       "2495               0         1.702543                1.0              0.0   \n",
       "9222               1        -1.459241                0.0              0.0   \n",
       "1943               0         1.069749                1.0              0.0   \n",
       "...              ...              ...                ...              ...   \n",
       "6453               0        -0.542086                1.0              0.0   \n",
       "6916               1         0.529051                0.0              0.0   \n",
       "969                1         0.130424                1.0              0.0   \n",
       "3457               0         1.449366                0.0              1.0   \n",
       "1564               0         1.252648                1.0              0.0   \n",
       "\n",
       "      Gender_Male  \n",
       "172           1.0  \n",
       "6063          1.0  \n",
       "2495          0.0  \n",
       "9222          1.0  \n",
       "1943          1.0  \n",
       "...           ...  \n",
       "6453          0.0  \n",
       "6916          0.0  \n",
       "969           1.0  \n",
       "3457          1.0  \n",
       "1564          0.0  \n",
       "\n",
       "[1819 rows x 11 columns]"
      ]
     },
     "metadata": {},
     "output_type": "display_data"
    }
   ],
   "source": [
    "# код ревьюера\n",
    "display(features_test)"
   ]
  },
  {
   "cell_type": "markdown",
   "metadata": {},
   "source": [
    "<div class=\"alert alert-block alert-danger\">\n",
    "<h2> <s>Комментарий ревьюера <a class=\"tocSkip\"></h2>\n",
    "  \n",
    "<b>На доработку🤔:</b>\n",
    " \n",
    "Здесь не очень оптимально по коду. И думаю, что не стоит в скелер подавать абсолютно все наши колонки. Бинарные признаки (0,1) стоит оставить как есть. Важно также оставлять и названия колонок - иногда это удобно для понимания происходящего в коде.\n",
    "    \n",
    "`numeric = ['CreditScore', 'Age', 'Tenure', 'Balance', 'EstimatedSalary']\n",
    "scaler = StandardScaler()\n",
    "scaler.fit(features_train[numeric])\n",
    "features_train[numeric] = scaler.transform(features_train[numeric])\n",
    "features_valid[numeric] = scaler.transform(features_valid[numeric])\n",
    "features_test[numeric] = scaler.transform(features_test[numeric])`\n",
    "\n",
    "</div>\n"
   ]
  },
  {
   "cell_type": "markdown",
   "metadata": {},
   "source": [
    "Обучение моделей по каждому из 3х типов (решающее дерево, случайные лес и логистическая регрессия) проведем на тренировочном наборе данных, качество оценим с помощью валидационного датасета. "
   ]
  },
  {
   "cell_type": "markdown",
   "metadata": {},
   "source": [
    "Решающее дерево. Гиперпараметр: max_depth - максимальная глубина дерева"
   ]
  },
  {
   "cell_type": "code",
   "execution_count": 154,
   "metadata": {},
   "outputs": [
    {
     "name": "stdout",
     "output_type": "stream",
     "text": [
      "F1-мера лучшей модели на валидационной выборке: 0.5784114052953157 , c параметрами DecisionTreeClassifier(max_depth=7, random_state=12345)\n"
     ]
    }
   ],
   "source": [
    "best_model_dtc = None\n",
    "best_result = 0\n",
    "for depth in range(1, 30):\n",
    "    model = DecisionTreeClassifier(random_state=12345, max_depth=depth)\n",
    "    model.fit(features_train, target_train) # обучим модель на тренировочном наборе\n",
    "    predictions = model.predict(features_valid) # получим предсказания на валидационном сете обученной ранее модели\n",
    "    f1_result = f1_score(target_valid, predictions) # определим f1-меру \n",
    "    if f1_result > best_result:\n",
    "        best_model_dtc = model # сохраним наилучшую модель\n",
    "        best_result = f1_result# сохраним наилучший результат\n",
    "        \n",
    "print(\"F1-мера лучшей модели на валидационной выборке:\", best_result, \", c параметрами\", best_model_dtc)"
   ]
  },
  {
   "cell_type": "markdown",
   "metadata": {},
   "source": [
    "<div class=\"alert alert-success\">\n",
    "<h2> Комментарий ревьюера <a class=\"tocSkip\"> </h2>\n",
    "\n",
    "👍 Здесь все корректно.\n",
    "</div> \n"
   ]
  },
  {
   "cell_type": "markdown",
   "metadata": {},
   "source": [
    "Случайный лес. Гиперпараметры: n_estimators - количество деревьев в лесу, max_depth - максимальная глубина дерева"
   ]
  },
  {
   "cell_type": "code",
   "execution_count": 155,
   "metadata": {},
   "outputs": [
    {
     "name": "stdout",
     "output_type": "stream",
     "text": [
      "F1-мера лучшей модели на валидационной выборке: 0.5938864628820961 , c параметрами RandomForestClassifier(max_depth=10, n_estimators=17, random_state=12345)\n"
     ]
    }
   ],
   "source": [
    "best_model_rfc = None\n",
    "best_result = 0\n",
    "for est in range(1, 50):\n",
    "    for depth in range(1, 11):\n",
    "        model = RandomForestClassifier(random_state=12345, n_estimators=est, max_depth=depth)\n",
    "        model.fit(features_train,target_train) # обучим модель на тренировочной выборке\n",
    "        predictions = model.predict(features_valid) # получим предсказания на валидационном сете обученной ранее модели\n",
    "        f1_result = f1_score(target_valid, predictions) # определим f1-меру\n",
    "        if f1_result > best_result:\n",
    "            best_model_rfc = model # сохраним наилучшую модель\n",
    "            best_result = f1_result # сохраним наилучший результат\n",
    "print(\"F1-мера лучшей модели на валидационной выборке:\", best_result, \", c параметрами\", best_model_rfc)"
   ]
  },
  {
   "cell_type": "markdown",
   "metadata": {},
   "source": [
    "<div class=\"alert alert-success\">\n",
    "<h2> Комментарий ревьюера <a class=\"tocSkip\"> </h2>\n",
    "\n",
    "👍 Всё верно  \n",
    "</div>  "
   ]
  },
  {
   "cell_type": "markdown",
   "metadata": {},
   "source": [
    "Логистическая регрессия."
   ]
  },
  {
   "cell_type": "code",
   "execution_count": 156,
   "metadata": {},
   "outputs": [
    {
     "name": "stdout",
     "output_type": "stream",
     "text": [
      "F1-мера лучшей модели на валидационной выборке: 0.5938864628820961 , c параметрами LogisticRegression(random_state=12345)\n"
     ]
    }
   ],
   "source": [
    "model = LogisticRegression(random_state=12345, solver='lbfgs', max_iter=30, C=1.0)\n",
    "model.fit(features_train, target_train) # обучим модель на тренировочной выборке\n",
    "predictions = model.predict(features_valid) # получим предсказания на валидационном сете обученной ранее модели\n",
    "f1_result = f1_score(target_valid, predictions) # определим f1-меру \n",
    "print(\"F1-мера лучшей модели на валидационной выборке:\", best_result, \", c параметрами\", best_model_lr)"
   ]
  },
  {
   "cell_type": "markdown",
   "metadata": {},
   "source": [
    "<div class=\"alert alert-warning\">\n",
    "<h2> Комментарий ревьюера <a class=\"tocSkip\"> </h2>\n",
    "    \n",
    "<b>Некоторые замечания и рекомендации💡:</b> \n",
    "\n",
    "По параметру итераций: мы специально ограничиваем число итераций, когда модель долго не может подобрать веса. Сейчас такой проблемы нет. Модель сходится до 30-й итерации, остальные уже качества не прибавляют. Здесь не очень эффективно подбирать этот параметр. Можно ничего не подбирать, можно посмотреть на параметр регуляризации «C» - по умолчанию он равен единице и чем он меньше, тем регуляризация выше.\n",
    "       \n",
    "</div>"
   ]
  },
  {
   "cell_type": "markdown",
   "metadata": {},
   "source": [
    "Как видно из результатов обучения моделей, значение F1-меры не превышает необходимое в 0.59, причиной этого является дисбаланс классов."
   ]
  },
  {
   "cell_type": "markdown",
   "metadata": {},
   "source": [
    "## Борьба с дисбалансом"
   ]
  },
  {
   "cell_type": "markdown",
   "metadata": {},
   "source": [
    "Ранее мы выяснили, что в целевом признаке Exited есть разбалансироваие классов: 0 = 7963, 1 = 2037.\n",
    "Перевес значения 0 практически в 4 раза. Есть несколько техник по работе с дисбалансом классов. Сделать объекты редкого класса не такими редкими и воспользоваться техникой upsampling. Или сделать объекты частого класса не такими частыми - downsampling."
   ]
  },
  {
   "cell_type": "code",
   "execution_count": 157,
   "metadata": {},
   "outputs": [],
   "source": [
    "def upsample(features, target, repeat):\n",
    "    features_zeros = features[target == 0]\n",
    "    features_ones = features[target == 1]\n",
    "    target_zeros = target[target == 0]\n",
    "    target_ones = target[target == 1]\n",
    "\n",
    "    features_upsampled = pd.concat([features_zeros] + [features_ones] * repeat)\n",
    "    target_upsampled = pd.concat([target_zeros] + [target_ones] * repeat)\n",
    "    \n",
    "    features_upsampled, target_upsampled = shuffle(\n",
    "        features_upsampled, target_upsampled, random_state=12345)\n",
    "    \n",
    "    return features_upsampled, target_upsampled"
   ]
  },
  {
   "cell_type": "markdown",
   "metadata": {},
   "source": [
    "<div class=\"alert alert-success\">\n",
    "<h2> Комментарий ревьюера <a class=\"tocSkip\"> </h2>\n",
    "\n",
    "👍 Отлично, что используешь рукописную функцию, но здесь можно все оптимизировать, используя <a href=\"https://imbalanced-learn.org/stable/references/generated/imblearn.over_sampling.SMOTE.html\">SMOTE</a> для увеличения выборки и <a href=\"https://imbalanced-learn.org/stable/references/generated/imblearn.under_sampling.RandomUnderSampler.html\">RandomUnderSampler</a>  для уменьшения. \n",
    "    \n",
    "Апсемплинг делается очень просто:\n",
    "    \n",
    "`oversample = SMOTE(random_state=RANDOM_STATE)`\n",
    "\n",
    "`features_train_up, target_train_up = oversample.fit_resample(features_train_enc, target_train)`\n",
    "    \n",
    "*предварительно импотрировав `from imblearn.over_sampling import SMOTE`\n",
    "\n",
    "**Чтобы импортировать imblearn его сначала требуется проинсталлировать. через `!pip install imblearn`\n",
    "\n",
    "В некоторых случаях качество может при применении SMOTE как улучшаться, так и ухудшаться в пределах статистической погрешности. Алгоритм не дублирует строки, а создает новые с помощью метода ближайших соседей.\n",
    "\n",
    "***\n",
    "    \n",
    "Если код выдаст ошибку, нужно перезагрузить ядро юпитера: Kernel - Restart на панели задач.\n",
    " \n",
    "    \n",
    "</div>\n"
   ]
  },
  {
   "cell_type": "code",
   "execution_count": 158,
   "metadata": {},
   "outputs": [],
   "source": [
    "def downsample(features, target, fraction):\n",
    "    features_zeros = features[target == 0]\n",
    "    features_ones = features[target == 1]\n",
    "    target_zeros = target[target == 0]\n",
    "    target_ones = target[target == 1]\n",
    "\n",
    "    features_downsampled = pd.concat(\n",
    "        [features_zeros.sample(frac=fraction, random_state=12345)] + [features_ones])\n",
    "    target_downsampled = pd.concat(\n",
    "        [target_zeros.sample(frac=fraction, random_state=12345)] + [target_ones])\n",
    "    \n",
    "    features_downsampled, target_downsampled = shuffle(\n",
    "        features_downsampled, target_downsampled, random_state=12345)\n",
    "    \n",
    "    return features_downsampled, target_downsampled"
   ]
  },
  {
   "cell_type": "code",
   "execution_count": 159,
   "metadata": {},
   "outputs": [],
   "source": [
    "features_upsampled, target_upsampled = upsample(features_train, target_train, 4)\n",
    "features_downsampled, target_downsampled = downsample(features_train, target_train, 0.25)"
   ]
  },
  {
   "cell_type": "markdown",
   "metadata": {},
   "source": [
    "<div class=\"alert alert-block alert-danger\">\n",
    "<h2><s> Комментарий ревьюера <a class=\"tocSkip\"></h2>\n",
    "  \n",
    "<b>На доработку🤔:</b>\n",
    " \n",
    "По апсемплингу коэффициент верный. А по даунсемплингу нам нужна четверть, а это у нас 0.25 (обычно шутят, что легко запомнить по бутылкам).\n",
    "\n",
    "</div>\n",
    "\n"
   ]
  },
  {
   "cell_type": "markdown",
   "metadata": {},
   "source": [
    "<div class=\"alert alert-info\">\n",
    "И точно! Не сообразила >_<\n",
    "</div>"
   ]
  },
  {
   "cell_type": "markdown",
   "metadata": {},
   "source": [
    "Теперь, когда у нас готовы новые датасеты, обучим еще раз наши модели дерева решений, случайного леса и логистическую регрессии, с использованем upsample и downsample в качестве меры по устранению дисбаланса. И посмотрим как это повлияет на значение F1-меры (она должна превысить 0.59)."
   ]
  },
  {
   "cell_type": "code",
   "execution_count": 160,
   "metadata": {},
   "outputs": [
    {
     "name": "stdout",
     "output_type": "stream",
     "text": [
      "F1-мера лучшей модели с использованием upsampled на валидационной выборке: 0.5753768844221105 , c параметрами DecisionTreeClassifier(max_depth=6, random_state=12345)\n"
     ]
    }
   ],
   "source": [
    "best_model_dtc_us = None\n",
    "best_result = 0\n",
    "for depth in range(1, 30):\n",
    "    model = DecisionTreeClassifier(random_state=12345, max_depth=depth)\n",
    "    model.fit(features_upsampled, target_upsampled) # обучим модель на тренировочном наборе\n",
    "    predictions = model.predict(features_valid) # получим предсказания на валидационном сете обученной ранее модели\n",
    "    f1_result = f1_score(target_valid, predictions) # определим f1-меру \n",
    "    if f1_result > best_result:\n",
    "        best_model_dtc_us = model # сохраним наилучшую модель\n",
    "        best_result = f1_result# сохраним наилучший результат\n",
    "        \n",
    "print(\"F1-мера лучшей модели с использованием upsampled на валидационной выборке:\", best_result, \", c параметрами\", best_model_dtc_us)"
   ]
  },
  {
   "cell_type": "code",
   "execution_count": 161,
   "metadata": {},
   "outputs": [
    {
     "name": "stdout",
     "output_type": "stream",
     "text": [
      "F1-мера лучшей модели с использованием downsampled на валидационной выборке: 0.5632333767926988 , c параметрами DecisionTreeClassifier(max_depth=7, random_state=12345)\n"
     ]
    }
   ],
   "source": [
    "best_model_dtc_ds = None\n",
    "best_result = 0\n",
    "for depth in range(1, 30):\n",
    "    model = DecisionTreeClassifier(random_state=12345, max_depth=depth)\n",
    "    model.fit(features_downsampled, target_downsampled) # обучим модель на тренировочном наборе\n",
    "    predictions = model.predict(features_valid) # получим предсказания на валидационном сете обученной ранее модели\n",
    "    f1_result = f1_score(target_valid, predictions) # определим f1-меру \n",
    "    if f1_result > best_result:\n",
    "        best_model_dtc_ds = model # сохраним наилучшую модель\n",
    "        best_result = f1_result# сохраним наилучший результат\n",
    "        \n",
    "print(\"F1-мера лучшей модели с использованием downsampled на валидационной выборке:\", best_result, \", c параметрами\", best_model_dtc_ds)"
   ]
  },
  {
   "cell_type": "code",
   "execution_count": 163,
   "metadata": {},
   "outputs": [
    {
     "name": "stdout",
     "output_type": "stream",
     "text": [
      "F1-мера лучшей модели с использованием upsampled на валидационной выборке: 0.6199701937406856 , c параметрами RandomForestClassifier(max_depth=10, n_estimators=33, random_state=12345)\n"
     ]
    }
   ],
   "source": [
    "best_model_rfc_us = None\n",
    "best_result = 0\n",
    "for est in range(1, 50):\n",
    "    for depth in range(1, 11):\n",
    "        model = RandomForestClassifier(random_state=12345, n_estimators=est, max_depth=depth)\n",
    "        model.fit(features_upsampled, target_upsampled) # обучим модель на тренировочной выборке\n",
    "        predictions = model.predict(features_valid) # получим предсказания на валидационном сете обученной ранее модели\n",
    "        f1_result = f1_score(target_valid, predictions) # определим f1-меру\n",
    "        if f1_result > best_result:\n",
    "            best_model_rfc_us = model # сохраним наилучшую модель\n",
    "            best_result = f1_result # сохраним наилучший результат\n",
    "print(\"F1-мера лучшей модели с использованием upsampled на валидационной выборке:\", best_result, \", c параметрами\", best_model_rfc_us)"
   ]
  },
  {
   "cell_type": "code",
   "execution_count": 164,
   "metadata": {},
   "outputs": [
    {
     "name": "stdout",
     "output_type": "stream",
     "text": [
      "F1-мера лучшей модели с использованием upsampled на валидационной выборке: 0.6199701937406856 , c параметрами LogisticRegression(max_iter=30, random_state=12345)\n"
     ]
    }
   ],
   "source": [
    "model = LogisticRegression(random_state=12345, solver='lbfgs', max_iter=30, C=1.0)\n",
    "model.fit(features_upsampled, target_upsampled) # обучим модель на тренировочной выборке\n",
    "predictions = model.predict(features_valid) # получим предсказания на валидационном сете обученной ранее модели\n",
    "f1_result = f1_score(target_valid, predictions) # определим f1-меру \n",
    "print(\"F1-мера лучшей модели с использованием upsampled на валидационной выборке:\", best_result, \", c параметрами\", model)"
   ]
  },
  {
   "cell_type": "code",
   "execution_count": 165,
   "metadata": {},
   "outputs": [
    {
     "name": "stdout",
     "output_type": "stream",
     "text": [
      "F1-мера лучшей модели с использованием upsampled на валидационной выборке: 0.6199701937406856 , c параметрами LogisticRegression(max_iter=30, random_state=12345)\n"
     ]
    }
   ],
   "source": [
    "model = LogisticRegression(random_state=12345, solver='lbfgs', max_iter=30, C=1.0)\n",
    "model.fit(features_downsampled, target_downsampled) # обучим модель на тренировочной выборке\n",
    "predictions = model.predict(features_valid) # получим предсказания на валидационном сете обученной ранее модели\n",
    "f1_result = f1_score(target_valid, predictions) # определим f1-меру \n",
    "print(\"F1-мера лучшей модели с использованием upsampled на валидационной выборке:\", best_result, \", c параметрами\", model)"
   ]
  },
  {
   "cell_type": "markdown",
   "metadata": {},
   "source": [
    "Результаты показали, что F1-мера лучшей модели на валидационной выборке: 0.6199701937406856, c параметрами RandomForestClassifier(max_depth=10, n_estimators=33, random_state=12345) и методом upsampled. \n",
    "Запомним эти характеристики и протестируем данную модель на тестовом датасете. Также проанализируем метрику AUC-ROC"
   ]
  },
  {
   "cell_type": "markdown",
   "metadata": {},
   "source": [
    "   \n",
    "<div class=\"alert alert-success\">\n",
    "<h2> Комментарий ревьюера <a class=\"tocSkip\"> </h2>\n",
    " \n",
    "👍  Лучшая модель описана. Единственное, по выбору: хотя у нас даунсемплинг и показал хорошее качество, все-таки, данных у нас немного в датасетах, а если даунсемплируем в 4 раза (ага, пока другой коэффициент), данных будет еще меньше, и апсемплинг будет более перспективным методом.\n",
    "    \n",
    "***\n",
    "    \n",
    "По даунсемплингу. Возникает вопрос, а если модель лучше работает с коэффициентом 0.4, зачем доводить до равенства классов и 0.25? Тут история такая: теоретически для модели лучше будет обучаться тогда, когда мы ей показываем строки разных классов попеременно. А вот если строк не хватает, то это лишний повод выбрать другой метод для борьбы с дисбалансом классов :)\n",
    "</div>  \n",
    "   \n",
    "     \n"
   ]
  },
  {
   "cell_type": "markdown",
   "metadata": {},
   "source": [
    "## Тестирование модели"
   ]
  },
  {
   "cell_type": "code",
   "execution_count": 166,
   "metadata": {},
   "outputs": [
    {
     "name": "stdout",
     "output_type": "stream",
     "text": [
      "F1-мера: 0.6136919315403423\n"
     ]
    }
   ],
   "source": [
    "predictions_test = best_model_rfc_us.predict(features_test)\n",
    "f1_result = f1_score(target_test, predictions_test)\n",
    "\n",
    "print(\"F1-мера:\", f1_result)"
   ]
  },
  {
   "cell_type": "markdown",
   "metadata": {},
   "source": [
    "<div class=\"alert alert-success\">\n",
    "<h2> Комментарий ревьюера <a class=\"tocSkip\"> </h2>\n",
    "\n",
    "👍 Отлично \n",
    "</div> \n",
    "   \n"
   ]
  },
  {
   "cell_type": "markdown",
   "metadata": {},
   "source": [
    "Чтобы выявить, как сильно наша модель отличается от случайной и проверить ее на адекватность, посчитаем AUC-ROC. AUC-ROC случайной модели равна 0.5."
   ]
  },
  {
   "cell_type": "code",
   "execution_count": 167,
   "metadata": {},
   "outputs": [
    {
     "name": "stdout",
     "output_type": "stream",
     "text": [
      "0.778095262914923\n"
     ]
    }
   ],
   "source": [
    "probabilities_test = model.predict_proba(features_test)\n",
    "probabilities_one_test = probabilities_test[:, 1]\n",
    "auc_roc = roc_auc_score(target_test, probabilities_one_test)\n",
    "print(auc_roc)"
   ]
  },
  {
   "cell_type": "markdown",
   "metadata": {},
   "source": [
    "<div class=\"alert alert-success\">\n",
    "<h2> Комментарий ревьюера <a class=\"tocSkip\"> </h2>\n",
    "\n",
    "👍 По коду все верно. По результату − не самый высокий для такого f1 (эта метрика у нас хороша).\n",
    "</div> \n",
    "   \n"
   ]
  },
  {
   "cell_type": "code",
   "execution_count": 168,
   "metadata": {},
   "outputs": [
    {
     "data": {
      "image/png": "[encoded data removed]",
      "text/plain": [
       "<Figure size 432x288 with 1 Axes>"
      ]
     },
     "metadata": {
      "needs_background": "light"
     },
     "output_type": "display_data"
    }
   ],
   "source": [
    "fpr, tpr, thresholds = roc_curve(target_test, probabilities_one_test)\n",
    "plt.figure()\n",
    "plt.plot(fpr, tpr)\n",
    "# ROC-кривая случайной модели (выглядит как прямая)\n",
    "plt.plot([0, 1], [0, 1], linestyle='--')\n",
    "# установим границы осей от 0 до 1 >\n",
    "plt.xlim([0.0,1.0])\n",
    "plt.ylim([0.0,1.0])\n",
    "# подпишем оси \"False Positive Rate\" и \"True Positive Rate\" >\n",
    "plt.xlabel(\"False Positive Rate\")\n",
    "plt.ylabel(\"True Positive Rate\")\n",
    "# добавим к графику заголовок \"ROC-кривая\" функцией plt.title() >\n",
    "plt.title(\"ROC-кривая\")\n",
    "plt.show()"
   ]
  },
  {
   "cell_type": "markdown",
   "metadata": {},
   "source": [
    "Добавим сравнение по f1-мере с константной моделью"
   ]
  },
  {
   "cell_type": "code",
   "execution_count": 169,
   "metadata": {},
   "outputs": [
    {
     "name": "stdout",
     "output_type": "stream",
     "text": [
      "F1-мера константной модели: 0.33881278538812787\n"
     ]
    }
   ],
   "source": [
    "dummy_model = DummyClassifier(strategy='constant', constant=1)\n",
    "dummy_model.fit(features_train, target_train)\n",
    "f1_score = f1_score(dummy_model.predict(features_test), target_test)\n",
    "print(\"F1-мера константной модели:\", f1_score)"
   ]
  },
  {
   "cell_type": "markdown",
   "metadata": {},
   "source": [
    "Также можно проверить модель на адекватность, используя матрицу несоответствий"
   ]
  },
  {
   "cell_type": "code",
   "execution_count": 176,
   "metadata": {},
   "outputs": [
    {
     "name": "stdout",
     "output_type": "stream",
     "text": [
      "1252 196 120 251\n"
     ]
    }
   ],
   "source": [
    "tn, fp, fn, tp = confusion_matrix(target_test, predictions_test).ravel()\n",
    "print(tn, fp, fn, tp)"
   ]
  },
  {
   "cell_type": "markdown",
   "metadata": {},
   "source": [
    "Результат: true negative=1252, true positive=196, false positive=120, false negative=251\n",
    "True positive (TP) означает, что образец, принадлежащий к классу положительных результатов, был правильно классифицирован. True Negative (TN) относится к образцу, принадлежащему к отрицательному классу, который классифицируется правильно.\n",
    "False positive (FP) - относится к образцу, принадлежащему к отрицательному классу, но ошибочно классифицированному как принадлежащему к положительному классу. False negative (FN) - относится к образцу, принадлежащему к положительному классу, но ошибочно классифицированному как принадлежащему к отрицательному классу."
   ]
  },
  {
   "cell_type": "markdown",
   "metadata": {},
   "source": [
    "Метрика, показываяющая число выборок, правильно предсказанных как принадлежащих к положительному классу, из всех выборок, которые на самом деле принадлежат к положительному классу - Recall. Exited = 1 (положительный класс) — клиент ушел, 0 - не ушел."
   ]
  },
  {
   "cell_type": "code",
   "execution_count": 177,
   "metadata": {},
   "outputs": [
    {
     "name": "stdout",
     "output_type": "stream",
     "text": [
      "0.6765498652291105\n"
     ]
    }
   ],
   "source": [
    "print (tp/(tp + fn))"
   ]
  },
  {
   "cell_type": "markdown",
   "metadata": {},
   "source": [
    "Вывод: значение метрики достаточно высокое, выше чем у случайной и констрантной модели. Нам также удалось достичь F1-меры не менее 0.59. Можно считать выбранную модель достаточно сбалансированной. F1-мера = 0.6136919315403423, AUC_ROC = 0.778095262914923, recall = 0.6765498652291105"
   ]
  },
  {
   "cell_type": "markdown",
   "metadata": {},
   "source": [
    "<div class=\"alert alert-warning\">\n",
    "<h2> Комментарий ревьюера <a class=\"tocSkip\"> </h2>\n",
    "    \n",
    "<b>Некоторые замечания и рекомендации💡:</b> \n",
    "\n",
    "\n",
    "Я бы добавил сравнение по f1-мере с константной моделью, также можно посмотреть recall и прокомментировать, какую долю клиентов на отток модель верно детектирует.\n",
    "***\n",
    "\n",
    "Здесь в дамми-модели я бы предсказал везде «1». Условно говоря, если предсказываем ноль, моделируем ситуацию, когда акцию с бонусами для удержания клиентов решили не проводить. Если предсказываем единицу − решили раздать бонусы вообще всем клиентам. Если в дамми-модели предсказываем по единице, можно подсчитать F1, она не будет зануляться.\n",
    "    \n",
    "`dummy_model = DummyClassifier(strategy='constant', constant=1)\n",
    "dummy_model.fit(features_train, target_train)\n",
    "f1_score(dummy_model.predict(features_test), target_test)`\n",
    "    \n",
    "Импорт: from sklearn.dummy import DummyClassifier\n",
    "\n",
    "       \n",
    "</div>\n"
   ]
  },
  {
   "cell_type": "markdown",
   "metadata": {},
   "source": [
    "<div style=\"border:solid Chocolate 2px; padding: 40px\">\n",
    "\n",
    "**Общий вывод по проекту**\n",
    "    \n",
    "Спасибо за твой проект! Отличная работа. Есть несколько важных моментов, которые необходимо поправить. Их ты найдешь в разноцветных комментариях.\n",
    "    \n",
    "**Отмечу положительные моменты проекта🚀**\n",
    "    \n",
    "* Хорошая структура проекта. Выбор моделей, порядок исследования.\n",
    "* Есть пояснения к шагам, код с высокой читаемостью. \n",
    "* Логичность решений.\n",
    "* Хороший результат на тестовой выборке.\n",
    "    \n",
    "**На что стоит обратить внимание🤔**\n",
    "    \n",
    "* Нужно масштабировать данные после разбиения на выборки, сохраняя названия столбцов и масштабируя только нужные признаки (бинарные не трогаем).\n",
    "* Даунсемплинг нужно довести до баланса классов (1:1).\n",
    "* Эти и остальные замечания я также написал по ходу проекта.\n",
    "    \n",
    "**Желаю удачи и жду твой проект на повторное ревью!**😉\n",
    "    \n",
    "    \n",
    "</div>"
   ]
  },
  {
   "cell_type": "markdown",
   "metadata": {},
   "source": [
    "<div style=\"border:solid Chocolate 2px; padding: 40px\">\n",
    "\n",
    "**Комментарий ко второй проверке**\n",
    "\n",
    "Спасибо за доработку. Критичных комментариев нет. \n",
    "\n",
    "Желаю удачи в дальнейшей учебе!\n",
    "\n",
    "</div>\n"
   ]
  },
  {
   "cell_type": "markdown",
   "metadata": {},
   "source": [
    "## Чек-лист готовности проекта"
   ]
  },
  {
   "cell_type": "markdown",
   "metadata": {},
   "source": [
    "Поставьте 'x' в выполненных пунктах. Далее нажмите Shift+Enter."
   ]
  },
  {
   "cell_type": "markdown",
   "metadata": {},
   "source": [
    "- [x]  Jupyter Notebook открыт\n",
    "- [x]  Весь код выполняется без ошибок\n",
    "- [x]  Ячейки с кодом расположены в порядке исполнения\n",
    "- [x]  Выполнен шаг 1: данные подготовлены\n",
    "- [x]  Выполнен шаг 2: задача исследована\n",
    "    - [x]  Исследован баланс классов\n",
    "    - [x]  Изучены модели без учёта дисбаланса\n",
    "    - [x]  Написаны выводы по результатам исследования\n",
    "- [x]  Выполнен шаг 3: учтён дисбаланс\n",
    "    - [x]  Применено несколько способов борьбы с дисбалансом\n",
    "    - [x]  Написаны выводы по результатам исследования\n",
    "- [x]  Выполнен шаг 4: проведено тестирование\n",
    "- [x]  Удалось достичь *F1*-меры не менее 0.59\n",
    "- [x]  Исследована метрика *AUC-ROC*"
   ]
  },
  {
   "cell_type": "code",
   "execution_count": null,
   "metadata": {},
   "outputs": [],
   "source": []
  }
 ],
 "metadata": {
  "ExecuteTimeLog": [
   {
    "duration": 1127,
    "start_time": "2023-05-29T18:14:23.500Z"
   },
   {
    "duration": 125,
    "start_time": "2023-05-29T18:14:24.628Z"
   },
   {
    "duration": 51,
    "start_time": "2023-05-31T09:22:06.043Z"
   },
   {
    "duration": 1108,
    "start_time": "2023-05-31T09:22:12.438Z"
   },
   {
    "duration": 2024,
    "start_time": "2023-05-31T09:22:13.548Z"
   },
   {
    "duration": 55,
    "start_time": "2023-05-31T09:23:40.889Z"
   },
   {
    "duration": 279,
    "start_time": "2023-05-31T09:24:16.539Z"
   },
   {
    "duration": 14,
    "start_time": "2023-05-31T09:28:12.591Z"
   },
   {
    "duration": 13,
    "start_time": "2023-05-31T09:29:41.372Z"
   },
   {
    "duration": 12,
    "start_time": "2023-05-31T09:34:47.953Z"
   },
   {
    "duration": 3,
    "start_time": "2023-05-31T09:39:08.395Z"
   },
   {
    "duration": 14,
    "start_time": "2023-05-31T09:39:16.330Z"
   },
   {
    "duration": 8,
    "start_time": "2023-05-31T09:40:00.138Z"
   },
   {
    "duration": 2,
    "start_time": "2023-05-31T09:40:56.123Z"
   },
   {
    "duration": 3,
    "start_time": "2023-05-31T09:41:13.492Z"
   },
   {
    "duration": 2,
    "start_time": "2023-05-31T09:41:25.410Z"
   },
   {
    "duration": 4,
    "start_time": "2023-05-31T09:41:28.760Z"
   },
   {
    "duration": 37,
    "start_time": "2023-05-31T09:41:37.393Z"
   },
   {
    "duration": 9,
    "start_time": "2023-06-01T17:36:44.395Z"
   },
   {
    "duration": 1045,
    "start_time": "2023-06-01T17:36:49.375Z"
   },
   {
    "duration": 38,
    "start_time": "2023-06-01T17:36:52.774Z"
   },
   {
    "duration": 4,
    "start_time": "2023-06-01T17:36:57.124Z"
   },
   {
    "duration": 921,
    "start_time": "2023-06-01T17:38:30.473Z"
   },
   {
    "duration": 3,
    "start_time": "2023-06-01T17:40:06.364Z"
   },
   {
    "duration": 3,
    "start_time": "2023-06-01T17:40:49.068Z"
   },
   {
    "duration": 1018,
    "start_time": "2023-06-01T17:40:52.607Z"
   },
   {
    "duration": 62,
    "start_time": "2023-06-03T15:10:01.792Z"
   },
   {
    "duration": 2468,
    "start_time": "2023-06-03T15:10:09.481Z"
   },
   {
    "duration": 287,
    "start_time": "2023-06-03T15:10:11.951Z"
   },
   {
    "duration": 68,
    "start_time": "2023-06-03T15:10:43.031Z"
   },
   {
    "duration": 77,
    "start_time": "2023-06-03T15:10:52.517Z"
   },
   {
    "duration": 75,
    "start_time": "2023-06-03T15:11:05.122Z"
   },
   {
    "duration": 49,
    "start_time": "2023-06-03T15:24:16.117Z"
   },
   {
    "duration": 46,
    "start_time": "2023-06-03T15:24:25.284Z"
   },
   {
    "duration": 71,
    "start_time": "2023-06-03T15:24:30.201Z"
   },
   {
    "duration": 12,
    "start_time": "2023-06-03T15:33:42.170Z"
   },
   {
    "duration": 15,
    "start_time": "2023-06-03T15:34:37.408Z"
   },
   {
    "duration": 25,
    "start_time": "2023-06-03T15:39:21.904Z"
   },
   {
    "duration": 2,
    "start_time": "2023-06-03T15:50:38.001Z"
   },
   {
    "duration": 58,
    "start_time": "2023-06-03T15:50:38.896Z"
   },
   {
    "duration": 52,
    "start_time": "2023-06-03T15:51:07.882Z"
   },
   {
    "duration": 4,
    "start_time": "2023-06-03T16:00:45.508Z"
   },
   {
    "duration": 29,
    "start_time": "2023-06-03T16:00:47.976Z"
   },
   {
    "duration": 32,
    "start_time": "2023-06-03T16:01:17.647Z"
   },
   {
    "duration": 10,
    "start_time": "2023-06-03T16:01:26.157Z"
   },
   {
    "duration": 53,
    "start_time": "2023-06-03T16:01:33.068Z"
   },
   {
    "duration": 13,
    "start_time": "2023-06-03T16:01:35.665Z"
   },
   {
    "duration": 5,
    "start_time": "2023-06-03T16:01:38.611Z"
   },
   {
    "duration": 20,
    "start_time": "2023-06-03T16:01:41.420Z"
   },
   {
    "duration": 18,
    "start_time": "2023-06-03T16:01:56.680Z"
   },
   {
    "duration": 13,
    "start_time": "2023-06-03T16:11:02.174Z"
   },
   {
    "duration": 22,
    "start_time": "2023-06-03T16:20:07.084Z"
   },
   {
    "duration": 9,
    "start_time": "2023-06-03T16:23:20.950Z"
   },
   {
    "duration": 22,
    "start_time": "2023-06-03T16:23:52.392Z"
   },
   {
    "duration": 38,
    "start_time": "2023-06-03T16:23:54.754Z"
   },
   {
    "duration": 4,
    "start_time": "2023-06-03T16:24:00.250Z"
   },
   {
    "duration": 60,
    "start_time": "2023-06-03T16:24:00.881Z"
   },
   {
    "duration": 19,
    "start_time": "2023-06-03T16:24:02.225Z"
   },
   {
    "duration": 4,
    "start_time": "2023-06-03T16:24:03.425Z"
   },
   {
    "duration": 32,
    "start_time": "2023-06-03T16:24:04.655Z"
   },
   {
    "duration": 29,
    "start_time": "2023-06-03T16:24:05.801Z"
   },
   {
    "duration": 28,
    "start_time": "2023-06-03T16:24:06.951Z"
   },
   {
    "duration": 7,
    "start_time": "2023-06-03T16:24:08.619Z"
   },
   {
    "duration": 10,
    "start_time": "2023-06-03T16:36:29.286Z"
   },
   {
    "duration": 7,
    "start_time": "2023-06-03T16:37:55.870Z"
   },
   {
    "duration": 61,
    "start_time": "2023-06-03T16:37:56.953Z"
   },
   {
    "duration": 12,
    "start_time": "2023-06-03T16:38:02.481Z"
   },
   {
    "duration": 11,
    "start_time": "2023-06-03T16:38:03.972Z"
   },
   {
    "duration": 21,
    "start_time": "2023-06-03T16:38:05.585Z"
   },
   {
    "duration": 18,
    "start_time": "2023-06-03T16:38:06.766Z"
   },
   {
    "duration": 19,
    "start_time": "2023-06-03T16:38:07.946Z"
   },
   {
    "duration": 6,
    "start_time": "2023-06-03T16:38:09.935Z"
   },
   {
    "duration": 1920,
    "start_time": "2023-06-03T16:40:02.075Z"
   },
   {
    "duration": 8,
    "start_time": "2023-06-03T16:53:00.669Z"
   },
   {
    "duration": 15,
    "start_time": "2023-06-03T19:28:17.826Z"
   },
   {
    "duration": 19,
    "start_time": "2023-06-03T19:38:55.942Z"
   },
   {
    "duration": 17,
    "start_time": "2023-06-03T19:46:56.570Z"
   },
   {
    "duration": 10,
    "start_time": "2023-06-03T19:51:06.426Z"
   },
   {
    "duration": 229,
    "start_time": "2023-06-03T19:51:37.184Z"
   },
   {
    "duration": 169,
    "start_time": "2023-06-03T19:51:39.136Z"
   },
   {
    "duration": 16,
    "start_time": "2023-06-03T19:51:41.182Z"
   },
   {
    "duration": 5,
    "start_time": "2023-06-03T19:51:42.997Z"
   },
   {
    "duration": 20,
    "start_time": "2023-06-03T19:51:44.273Z"
   },
   {
    "duration": 14,
    "start_time": "2023-06-03T19:51:45.840Z"
   },
   {
    "duration": 17,
    "start_time": "2023-06-03T19:51:47.619Z"
   },
   {
    "duration": 7,
    "start_time": "2023-06-03T19:51:48.988Z"
   },
   {
    "duration": 20,
    "start_time": "2023-06-03T19:51:51.519Z"
   },
   {
    "duration": 22,
    "start_time": "2023-06-03T19:51:53.399Z"
   },
   {
    "duration": 22,
    "start_time": "2023-06-03T19:51:54.768Z"
   },
   {
    "duration": 3,
    "start_time": "2023-06-03T19:57:02.199Z"
   },
   {
    "duration": 51,
    "start_time": "2023-06-03T19:57:02.945Z"
   },
   {
    "duration": 13,
    "start_time": "2023-06-03T19:57:04.121Z"
   },
   {
    "duration": 5,
    "start_time": "2023-06-03T19:57:05.096Z"
   },
   {
    "duration": 20,
    "start_time": "2023-06-03T19:57:05.996Z"
   },
   {
    "duration": 16,
    "start_time": "2023-06-03T19:57:06.926Z"
   },
   {
    "duration": 21,
    "start_time": "2023-06-03T19:57:07.904Z"
   },
   {
    "duration": 7,
    "start_time": "2023-06-03T19:57:08.947Z"
   },
   {
    "duration": 15,
    "start_time": "2023-06-03T19:57:11.095Z"
   },
   {
    "duration": 21,
    "start_time": "2023-06-03T19:57:12.441Z"
   },
   {
    "duration": 22,
    "start_time": "2023-06-03T19:57:13.774Z"
   },
   {
    "duration": 27,
    "start_time": "2023-06-03T19:57:38.154Z"
   },
   {
    "duration": 373,
    "start_time": "2023-06-03T19:58:18.612Z"
   },
   {
    "duration": 1472,
    "start_time": "2023-06-03T19:58:53.103Z"
   },
   {
    "duration": 668,
    "start_time": "2023-06-03T20:02:43.517Z"
   },
   {
    "duration": 679,
    "start_time": "2023-06-03T20:02:50.116Z"
   },
   {
    "duration": 671,
    "start_time": "2023-06-03T20:05:47.515Z"
   },
   {
    "duration": 743,
    "start_time": "2023-06-03T20:07:18.840Z"
   },
   {
    "duration": 14,
    "start_time": "2023-06-03T20:07:20.040Z"
   },
   {
    "duration": 34,
    "start_time": "2023-06-03T20:08:34.415Z"
   },
   {
    "duration": 50,
    "start_time": "2023-06-03T20:08:34.930Z"
   },
   {
    "duration": 12,
    "start_time": "2023-06-03T20:08:35.809Z"
   },
   {
    "duration": 5,
    "start_time": "2023-06-03T20:08:36.378Z"
   },
   {
    "duration": 22,
    "start_time": "2023-06-03T20:08:36.988Z"
   },
   {
    "duration": 13,
    "start_time": "2023-06-03T20:08:37.761Z"
   },
   {
    "duration": 21,
    "start_time": "2023-06-03T20:08:38.870Z"
   },
   {
    "duration": 7,
    "start_time": "2023-06-03T20:08:39.899Z"
   },
   {
    "duration": 24,
    "start_time": "2023-06-03T20:08:41.743Z"
   },
   {
    "duration": 19,
    "start_time": "2023-06-03T20:08:43.810Z"
   },
   {
    "duration": 707,
    "start_time": "2023-06-03T20:08:45.463Z"
   },
   {
    "duration": 22,
    "start_time": "2023-06-03T20:08:46.763Z"
   },
   {
    "duration": 27,
    "start_time": "2023-06-03T20:10:18.056Z"
   },
   {
    "duration": 196485,
    "start_time": "2023-06-03T20:10:24.347Z"
   },
   {
    "duration": 194231,
    "start_time": "2023-06-03T20:18:00.122Z"
   },
   {
    "duration": 12,
    "start_time": "2023-06-03T20:22:16.051Z"
   },
   {
    "duration": 5,
    "start_time": "2023-06-03T20:24:18.056Z"
   },
   {
    "duration": 67,
    "start_time": "2023-06-03T20:24:18.688Z"
   },
   {
    "duration": 20,
    "start_time": "2023-06-03T20:24:19.786Z"
   },
   {
    "duration": 10,
    "start_time": "2023-06-03T20:24:20.848Z"
   },
   {
    "duration": 24,
    "start_time": "2023-06-03T20:24:21.797Z"
   },
   {
    "duration": 20,
    "start_time": "2023-06-03T20:24:22.724Z"
   },
   {
    "duration": 29,
    "start_time": "2023-06-03T20:24:23.624Z"
   },
   {
    "duration": 7,
    "start_time": "2023-06-03T20:24:24.479Z"
   },
   {
    "duration": 22,
    "start_time": "2023-06-03T20:24:26.131Z"
   },
   {
    "duration": 25,
    "start_time": "2023-06-03T20:24:26.965Z"
   },
   {
    "duration": 900,
    "start_time": "2023-06-03T20:24:28.159Z"
   },
   {
    "duration": 225683,
    "start_time": "2023-06-03T20:24:31.522Z"
   },
   {
    "duration": 311,
    "start_time": "2023-06-03T20:28:21.569Z"
   },
   {
    "duration": 7636,
    "start_time": "2023-06-03T20:28:34.222Z"
   },
   {
    "duration": 9,
    "start_time": "2023-06-04T09:18:18.011Z"
   },
   {
    "duration": 3,
    "start_time": "2023-06-04T09:18:41.225Z"
   },
   {
    "duration": 42,
    "start_time": "2023-06-04T09:26:56.588Z"
   },
   {
    "duration": 1029,
    "start_time": "2023-06-04T09:27:08.240Z"
   },
   {
    "duration": 95,
    "start_time": "2023-06-04T09:27:10.072Z"
   },
   {
    "duration": 11,
    "start_time": "2023-06-04T09:27:11.692Z"
   },
   {
    "duration": 4,
    "start_time": "2023-06-04T09:27:12.909Z"
   },
   {
    "duration": 18,
    "start_time": "2023-06-04T09:27:14.079Z"
   },
   {
    "duration": 11,
    "start_time": "2023-06-04T09:27:15.151Z"
   },
   {
    "duration": 15,
    "start_time": "2023-06-04T09:27:16.387Z"
   },
   {
    "duration": 4,
    "start_time": "2023-06-04T09:27:17.675Z"
   },
   {
    "duration": 12,
    "start_time": "2023-06-04T09:27:19.738Z"
   },
   {
    "duration": 15,
    "start_time": "2023-06-04T09:27:20.953Z"
   },
   {
    "duration": 707,
    "start_time": "2023-06-04T09:27:22.580Z"
   },
   {
    "duration": 194263,
    "start_time": "2023-06-04T09:27:25.635Z"
   },
   {
    "duration": 4175,
    "start_time": "2023-06-04T09:30:44.954Z"
   },
   {
    "duration": 3,
    "start_time": "2023-06-04T09:30:59.497Z"
   },
   {
    "duration": 3,
    "start_time": "2023-06-04T09:31:00.411Z"
   },
   {
    "duration": 87,
    "start_time": "2023-06-04T09:31:01.853Z"
   },
   {
    "duration": 3,
    "start_time": "2023-06-04T09:32:45.589Z"
   },
   {
    "duration": 49,
    "start_time": "2023-06-04T09:32:46.133Z"
   },
   {
    "duration": 11,
    "start_time": "2023-06-04T09:32:47.284Z"
   },
   {
    "duration": 5,
    "start_time": "2023-06-04T09:32:48.239Z"
   },
   {
    "duration": 19,
    "start_time": "2023-06-04T09:32:49.457Z"
   },
   {
    "duration": 11,
    "start_time": "2023-06-04T09:32:51.274Z"
   },
   {
    "duration": 14,
    "start_time": "2023-06-04T09:32:52.930Z"
   },
   {
    "duration": 4,
    "start_time": "2023-06-04T09:32:55.555Z"
   },
   {
    "duration": 12,
    "start_time": "2023-06-04T09:32:59.298Z"
   },
   {
    "duration": 14,
    "start_time": "2023-06-04T09:33:02.448Z"
   },
   {
    "duration": 717,
    "start_time": "2023-06-04T09:33:04.232Z"
   },
   {
    "duration": 197307,
    "start_time": "2023-06-04T09:33:09.596Z"
   },
   {
    "duration": 3953,
    "start_time": "2023-06-04T09:36:29.676Z"
   },
   {
    "duration": 5,
    "start_time": "2023-06-04T09:36:38.416Z"
   },
   {
    "duration": 4,
    "start_time": "2023-06-04T09:36:39.049Z"
   },
   {
    "duration": 11,
    "start_time": "2023-06-04T09:36:39.828Z"
   },
   {
    "duration": 1018,
    "start_time": "2023-06-04T09:42:21.369Z"
   },
   {
    "duration": 435,
    "start_time": "2023-06-04T09:42:57.992Z"
   },
   {
    "duration": 4,
    "start_time": "2023-06-04T09:45:51.105Z"
   },
   {
    "duration": 53,
    "start_time": "2023-06-04T09:45:51.515Z"
   },
   {
    "duration": 10,
    "start_time": "2023-06-04T09:45:52.160Z"
   },
   {
    "duration": 5,
    "start_time": "2023-06-04T09:45:52.744Z"
   },
   {
    "duration": 19,
    "start_time": "2023-06-04T09:45:53.342Z"
   },
   {
    "duration": 24,
    "start_time": "2023-06-04T09:45:53.907Z"
   },
   {
    "duration": 15,
    "start_time": "2023-06-04T09:45:54.484Z"
   },
   {
    "duration": 5,
    "start_time": "2023-06-04T09:45:55.068Z"
   },
   {
    "duration": 13,
    "start_time": "2023-06-04T09:45:56.399Z"
   },
   {
    "duration": 15,
    "start_time": "2023-06-04T09:45:57.178Z"
   },
   {
    "duration": 731,
    "start_time": "2023-06-04T09:45:58.369Z"
   },
   {
    "duration": 202049,
    "start_time": "2023-06-04T09:45:59.327Z"
   },
   {
    "duration": 5537,
    "start_time": "2023-06-04T09:49:21.379Z"
   },
   {
    "duration": 3,
    "start_time": "2023-06-04T09:51:05.532Z"
   },
   {
    "duration": 4,
    "start_time": "2023-06-04T09:51:06.344Z"
   },
   {
    "duration": 11,
    "start_time": "2023-06-04T09:51:07.124Z"
   },
   {
    "duration": 868,
    "start_time": "2023-06-04T09:51:09.568Z"
   },
   {
    "duration": 417,
    "start_time": "2023-06-04T09:51:12.511Z"
   },
   {
    "duration": 261216,
    "start_time": "2023-06-04T09:51:15.004Z"
   },
   {
    "duration": 131433,
    "start_time": "2023-06-04T09:55:49.932Z"
   },
   {
    "duration": 2094,
    "start_time": "2023-06-04T09:58:04.529Z"
   },
   {
    "duration": 1572,
    "start_time": "2023-06-04T09:58:10.052Z"
   },
   {
    "duration": 3,
    "start_time": "2023-06-04T10:13:26.483Z"
   },
   {
    "duration": 48,
    "start_time": "2023-06-04T10:13:27.012Z"
   },
   {
    "duration": 11,
    "start_time": "2023-06-04T10:13:28.239Z"
   },
   {
    "duration": 4,
    "start_time": "2023-06-04T10:13:29.068Z"
   },
   {
    "duration": 16,
    "start_time": "2023-06-04T10:13:29.772Z"
   },
   {
    "duration": 11,
    "start_time": "2023-06-04T10:13:30.419Z"
   },
   {
    "duration": 16,
    "start_time": "2023-06-04T10:13:31.033Z"
   },
   {
    "duration": 5,
    "start_time": "2023-06-04T10:13:31.539Z"
   },
   {
    "duration": 11,
    "start_time": "2023-06-04T10:13:32.794Z"
   },
   {
    "duration": 14,
    "start_time": "2023-06-04T10:13:33.712Z"
   },
   {
    "duration": 692,
    "start_time": "2023-06-04T10:13:34.927Z"
   },
   {
    "duration": 192197,
    "start_time": "2023-06-04T10:13:35.890Z"
   },
   {
    "duration": 1630,
    "start_time": "2023-06-04T10:32:15.798Z"
   },
   {
    "duration": 4,
    "start_time": "2023-06-04T10:32:25.131Z"
   },
   {
    "duration": 6,
    "start_time": "2023-06-04T10:32:25.732Z"
   },
   {
    "duration": 12,
    "start_time": "2023-06-04T10:32:26.429Z"
   },
   {
    "duration": 954,
    "start_time": "2023-06-04T10:32:27.830Z"
   },
   {
    "duration": 448,
    "start_time": "2023-06-04T10:32:29.704Z"
   },
   {
    "duration": 272396,
    "start_time": "2023-06-04T10:32:31.968Z"
   },
   {
    "duration": 132538,
    "start_time": "2023-06-04T10:37:04.366Z"
   },
   {
    "duration": 3700,
    "start_time": "2023-06-04T10:40:11.217Z"
   },
   {
    "duration": 2297,
    "start_time": "2023-06-04T10:40:17.732Z"
   },
   {
    "duration": 4,
    "start_time": "2023-06-04T10:40:34.325Z"
   },
   {
    "duration": 24,
    "start_time": "2023-06-04T10:40:42.072Z"
   },
   {
    "duration": 15,
    "start_time": "2023-06-04T10:40:54.785Z"
   },
   {
    "duration": 81,
    "start_time": "2023-06-04T10:41:03.043Z"
   },
   {
    "duration": 4,
    "start_time": "2023-06-04T10:45:10.037Z"
   },
   {
    "duration": 13,
    "start_time": "2023-06-04T10:47:52.855Z"
   },
   {
    "duration": 9,
    "start_time": "2023-06-04T10:47:54.835Z"
   },
   {
    "duration": 10,
    "start_time": "2023-06-04T10:47:55.921Z"
   },
   {
    "duration": 396,
    "start_time": "2023-06-04T10:48:17.360Z"
   },
   {
    "duration": 15,
    "start_time": "2023-06-04T10:48:23.991Z"
   },
   {
    "duration": 12,
    "start_time": "2023-06-04T10:48:25.205Z"
   },
   {
    "duration": 118,
    "start_time": "2023-06-04T10:48:26.085Z"
   },
   {
    "duration": 4,
    "start_time": "2023-06-04T10:50:08.503Z"
   },
   {
    "duration": 50,
    "start_time": "2023-06-04T10:50:09.382Z"
   },
   {
    "duration": 11,
    "start_time": "2023-06-04T10:50:11.143Z"
   },
   {
    "duration": 4,
    "start_time": "2023-06-04T10:50:12.253Z"
   },
   {
    "duration": 18,
    "start_time": "2023-06-04T10:50:13.426Z"
   },
   {
    "duration": 11,
    "start_time": "2023-06-04T10:50:14.344Z"
   },
   {
    "duration": 15,
    "start_time": "2023-06-04T10:50:15.423Z"
   },
   {
    "duration": 4,
    "start_time": "2023-06-04T10:50:16.695Z"
   },
   {
    "duration": 14,
    "start_time": "2023-06-04T10:50:19.909Z"
   },
   {
    "duration": 15,
    "start_time": "2023-06-04T10:50:21.149Z"
   },
   {
    "duration": 709,
    "start_time": "2023-06-04T10:50:22.971Z"
   },
   {
    "duration": 2049,
    "start_time": "2023-06-04T17:29:14.410Z"
   },
   {
    "duration": 232,
    "start_time": "2023-06-04T17:29:16.471Z"
   },
   {
    "duration": 19,
    "start_time": "2023-06-04T17:29:21.757Z"
   },
   {
    "duration": 9,
    "start_time": "2023-06-04T17:30:06.583Z"
   },
   {
    "duration": 44,
    "start_time": "2023-06-04T17:30:34.917Z"
   },
   {
    "duration": 18,
    "start_time": "2023-06-04T17:30:39.957Z"
   },
   {
    "duration": 52,
    "start_time": "2023-06-04T17:30:46.582Z"
   },
   {
    "duration": 14,
    "start_time": "2023-06-04T17:30:55.306Z"
   },
   {
    "duration": 18,
    "start_time": "2023-06-04T17:31:12.032Z"
   },
   {
    "duration": 185,
    "start_time": "2023-06-04T17:31:23.471Z"
   },
   {
    "duration": 12,
    "start_time": "2023-06-04T17:31:31.639Z"
   },
   {
    "duration": 86,
    "start_time": "2023-06-04T17:31:32.341Z"
   },
   {
    "duration": 25,
    "start_time": "2023-06-04T17:31:33.804Z"
   },
   {
    "duration": 5,
    "start_time": "2023-06-04T17:31:35.247Z"
   },
   {
    "duration": 58,
    "start_time": "2023-06-04T17:31:36.773Z"
   },
   {
    "duration": 20,
    "start_time": "2023-06-04T17:31:38.342Z"
   },
   {
    "duration": 10,
    "start_time": "2023-06-04T17:31:40.563Z"
   },
   {
    "duration": 31,
    "start_time": "2023-06-04T17:31:42.104Z"
   },
   {
    "duration": 31,
    "start_time": "2023-06-04T17:35:13.116Z"
   },
   {
    "duration": 34,
    "start_time": "2023-06-04T17:35:16.247Z"
   },
   {
    "duration": 887,
    "start_time": "2023-06-04T17:35:22.308Z"
   },
   {
    "duration": 68051,
    "start_time": "2023-06-04T17:35:30.012Z"
   },
   {
    "duration": 6729,
    "start_time": "2023-06-04T17:36:38.065Z"
   },
   {
    "duration": 10,
    "start_time": "2023-06-04T17:37:02.174Z"
   },
   {
    "duration": 10,
    "start_time": "2023-06-04T17:37:06.533Z"
   },
   {
    "duration": 15,
    "start_time": "2023-06-04T17:37:31.790Z"
   },
   {
    "duration": 22,
    "start_time": "2023-06-04T17:37:32.461Z"
   },
   {
    "duration": 30,
    "start_time": "2023-06-04T17:37:33.031Z"
   },
   {
    "duration": 1287,
    "start_time": "2023-06-04T17:37:42.051Z"
   },
   {
    "duration": 697,
    "start_time": "2023-06-04T17:37:45.474Z"
   },
   {
    "duration": 84212,
    "start_time": "2023-06-04T17:37:48.509Z"
   },
   {
    "duration": 46627,
    "start_time": "2023-06-04T17:39:55.844Z"
   },
   {
    "duration": 7085,
    "start_time": "2023-06-04T17:41:22.126Z"
   },
   {
    "duration": 5946,
    "start_time": "2023-06-04T17:41:35.237Z"
   },
   {
    "duration": 36,
    "start_time": "2023-06-04T17:41:58.993Z"
   },
   {
    "duration": 16,
    "start_time": "2023-06-04T17:44:06.057Z"
   },
   {
    "duration": 97,
    "start_time": "2023-06-04T17:45:00.416Z"
   },
   {
    "duration": 157,
    "start_time": "2023-06-04T17:45:01.413Z"
   },
   {
    "duration": 4820,
    "start_time": "2023-06-04T18:06:55.720Z"
   },
   {
    "duration": 241,
    "start_time": "2023-06-04T18:07:00.543Z"
   },
   {
    "duration": 31,
    "start_time": "2023-06-04T18:07:00.786Z"
   },
   {
    "duration": 47,
    "start_time": "2023-06-04T18:07:00.822Z"
   },
   {
    "duration": 141,
    "start_time": "2023-06-04T18:07:00.882Z"
   },
   {
    "duration": 69,
    "start_time": "2023-06-04T18:07:01.078Z"
   },
   {
    "duration": 187,
    "start_time": "2023-06-04T18:07:01.149Z"
   },
   {
    "duration": 121,
    "start_time": "2023-06-04T18:07:01.339Z"
   },
   {
    "duration": 78,
    "start_time": "2023-06-04T18:07:01.477Z"
   },
   {
    "duration": 278,
    "start_time": "2023-06-04T18:07:01.557Z"
   },
   {
    "duration": 1966,
    "start_time": "2023-06-04T18:07:01.837Z"
   },
   {
    "duration": 209314,
    "start_time": "2023-06-04T18:07:03.805Z"
   },
   {
    "duration": 8170,
    "start_time": "2023-06-04T18:10:33.126Z"
   },
   {
    "duration": 63,
    "start_time": "2023-06-04T18:10:41.320Z"
   },
   {
    "duration": 192,
    "start_time": "2023-06-04T18:10:41.385Z"
   },
   {
    "duration": 116,
    "start_time": "2023-06-04T18:10:41.578Z"
   },
   {
    "duration": 4405,
    "start_time": "2023-06-04T18:10:41.704Z"
   },
   {
    "duration": 2071,
    "start_time": "2023-06-04T18:10:46.111Z"
   },
   {
    "duration": 275433,
    "start_time": "2023-06-04T18:10:48.185Z"
   },
   {
    "duration": 39333,
    "start_time": "2023-06-04T18:15:23.620Z"
   },
   {
    "duration": 7346,
    "start_time": "2023-06-04T18:16:02.954Z"
   },
   {
    "duration": 6014,
    "start_time": "2023-06-04T18:16:10.302Z"
   },
   {
    "duration": 103,
    "start_time": "2023-06-04T18:16:16.381Z"
   },
   {
    "duration": 43,
    "start_time": "2023-06-04T18:16:16.486Z"
   },
   {
    "duration": 388,
    "start_time": "2023-06-04T18:16:16.531Z"
   },
   {
    "duration": 15,
    "start_time": "2023-06-04T18:36:28.149Z"
   },
   {
    "duration": 22,
    "start_time": "2023-06-04T18:36:41.876Z"
   },
   {
    "duration": 95,
    "start_time": "2023-06-05T05:36:19.923Z"
   },
   {
    "duration": 74,
    "start_time": "2023-06-05T06:13:50.940Z"
   },
   {
    "duration": 10448,
    "start_time": "2023-06-05T06:14:33.560Z"
   },
   {
    "duration": 1512,
    "start_time": "2023-06-05T06:20:41.640Z"
   },
   {
    "duration": 378,
    "start_time": "2023-06-05T06:20:52.334Z"
   },
   {
    "duration": 21,
    "start_time": "2023-06-05T06:20:54.447Z"
   },
   {
    "duration": 4,
    "start_time": "2023-06-05T06:20:55.865Z"
   },
   {
    "duration": 20,
    "start_time": "2023-06-05T06:20:58.595Z"
   },
   {
    "duration": 13,
    "start_time": "2023-06-05T06:21:00.902Z"
   },
   {
    "duration": 3,
    "start_time": "2023-06-05T06:21:06.133Z"
   },
   {
    "duration": 2147,
    "start_time": "2023-06-05T06:21:42.420Z"
   },
   {
    "duration": 1241,
    "start_time": "2023-06-05T06:21:44.569Z"
   },
   {
    "duration": 70,
    "start_time": "2023-06-05T06:21:45.812Z"
   },
   {
    "duration": 15,
    "start_time": "2023-06-05T06:21:45.884Z"
   },
   {
    "duration": 4,
    "start_time": "2023-06-05T06:21:45.901Z"
   },
   {
    "duration": 22,
    "start_time": "2023-06-05T06:21:45.907Z"
   },
   {
    "duration": 37,
    "start_time": "2023-06-05T06:21:45.931Z"
   },
   {
    "duration": 2,
    "start_time": "2023-06-05T06:21:45.970Z"
   },
   {
    "duration": 18,
    "start_time": "2023-06-05T06:21:45.974Z"
   },
   {
    "duration": 22,
    "start_time": "2023-06-05T06:21:45.994Z"
   },
   {
    "duration": 153,
    "start_time": "2023-06-05T06:21:46.018Z"
   },
   {
    "duration": 0,
    "start_time": "2023-06-05T06:21:46.174Z"
   },
   {
    "duration": 0,
    "start_time": "2023-06-05T06:21:46.175Z"
   },
   {
    "duration": 0,
    "start_time": "2023-06-05T06:21:46.177Z"
   },
   {
    "duration": 0,
    "start_time": "2023-06-05T06:21:46.178Z"
   },
   {
    "duration": 0,
    "start_time": "2023-06-05T06:21:46.179Z"
   },
   {
    "duration": 0,
    "start_time": "2023-06-05T06:21:46.180Z"
   },
   {
    "duration": 0,
    "start_time": "2023-06-05T06:21:46.182Z"
   },
   {
    "duration": 0,
    "start_time": "2023-06-05T06:21:46.183Z"
   },
   {
    "duration": 0,
    "start_time": "2023-06-05T06:21:46.185Z"
   },
   {
    "duration": 0,
    "start_time": "2023-06-05T06:21:46.186Z"
   },
   {
    "duration": 0,
    "start_time": "2023-06-05T06:21:46.188Z"
   },
   {
    "duration": 0,
    "start_time": "2023-06-05T06:21:46.189Z"
   },
   {
    "duration": 0,
    "start_time": "2023-06-05T06:21:46.191Z"
   },
   {
    "duration": 0,
    "start_time": "2023-06-05T06:21:46.192Z"
   },
   {
    "duration": 0,
    "start_time": "2023-06-05T06:21:46.192Z"
   },
   {
    "duration": 0,
    "start_time": "2023-06-05T06:21:46.194Z"
   },
   {
    "duration": 24,
    "start_time": "2023-06-05T06:35:53.864Z"
   },
   {
    "duration": 12,
    "start_time": "2023-06-05T07:10:26.296Z"
   },
   {
    "duration": 5,
    "start_time": "2023-06-05T07:10:43.139Z"
   },
   {
    "duration": 9,
    "start_time": "2023-06-05T07:12:50.367Z"
   },
   {
    "duration": 1793,
    "start_time": "2023-06-05T09:17:31.020Z"
   },
   {
    "duration": 371,
    "start_time": "2023-06-05T09:17:33.249Z"
   },
   {
    "duration": 14,
    "start_time": "2023-06-05T09:17:35.463Z"
   },
   {
    "duration": 5,
    "start_time": "2023-06-05T09:17:36.905Z"
   },
   {
    "duration": 21,
    "start_time": "2023-06-05T09:17:39.230Z"
   },
   {
    "duration": 15,
    "start_time": "2023-06-05T09:17:41.614Z"
   },
   {
    "duration": 3,
    "start_time": "2023-06-05T09:17:43.308Z"
   },
   {
    "duration": 14,
    "start_time": "2023-06-05T09:17:46.380Z"
   },
   {
    "duration": 17,
    "start_time": "2023-06-05T09:17:50.359Z"
   },
   {
    "duration": 106,
    "start_time": "2023-06-05T09:21:09.564Z"
   },
   {
    "duration": 5,
    "start_time": "2023-06-05T09:21:51.803Z"
   },
   {
    "duration": 52,
    "start_time": "2023-06-05T09:21:54.457Z"
   },
   {
    "duration": 13,
    "start_time": "2023-06-05T09:21:55.318Z"
   },
   {
    "duration": 5,
    "start_time": "2023-06-05T09:21:56.140Z"
   },
   {
    "duration": 21,
    "start_time": "2023-06-05T09:21:57.890Z"
   },
   {
    "duration": 13,
    "start_time": "2023-06-05T09:21:59.170Z"
   },
   {
    "duration": 3,
    "start_time": "2023-06-05T09:22:00.028Z"
   },
   {
    "duration": 19,
    "start_time": "2023-06-05T09:22:02.168Z"
   },
   {
    "duration": 16,
    "start_time": "2023-06-05T09:22:04.364Z"
   },
   {
    "duration": 6,
    "start_time": "2023-06-05T09:22:05.718Z"
   },
   {
    "duration": 25,
    "start_time": "2023-06-05T09:22:07.469Z"
   },
   {
    "duration": 14,
    "start_time": "2023-06-05T09:22:37.451Z"
   },
   {
    "duration": 14,
    "start_time": "2023-06-05T09:22:47.417Z"
   },
   {
    "duration": 11661,
    "start_time": "2023-06-05T09:23:37.699Z"
   },
   {
    "duration": 2036,
    "start_time": "2023-06-05T09:23:58.126Z"
   },
   {
    "duration": 1261,
    "start_time": "2023-06-05T09:24:00.164Z"
   },
   {
    "duration": 59,
    "start_time": "2023-06-05T09:24:01.428Z"
   },
   {
    "duration": 16,
    "start_time": "2023-06-05T09:24:01.489Z"
   },
   {
    "duration": 12,
    "start_time": "2023-06-05T09:24:01.507Z"
   },
   {
    "duration": 83,
    "start_time": "2023-06-05T09:24:01.521Z"
   },
   {
    "duration": 48,
    "start_time": "2023-06-05T09:24:01.605Z"
   },
   {
    "duration": 42,
    "start_time": "2023-06-05T09:24:01.656Z"
   },
   {
    "duration": 55,
    "start_time": "2023-06-05T09:24:01.700Z"
   },
   {
    "duration": 33,
    "start_time": "2023-06-05T09:24:01.757Z"
   },
   {
    "duration": 27,
    "start_time": "2023-06-05T09:24:01.792Z"
   },
   {
    "duration": 37,
    "start_time": "2023-06-05T09:24:01.820Z"
   },
   {
    "duration": 69,
    "start_time": "2023-06-05T09:24:01.859Z"
   },
   {
    "duration": 53,
    "start_time": "2023-06-05T09:24:01.932Z"
   },
   {
    "duration": 151,
    "start_time": "2023-06-05T09:24:01.987Z"
   },
   {
    "duration": 0,
    "start_time": "2023-06-05T09:24:02.140Z"
   },
   {
    "duration": 0,
    "start_time": "2023-06-05T09:24:02.141Z"
   },
   {
    "duration": 0,
    "start_time": "2023-06-05T09:24:02.142Z"
   },
   {
    "duration": 0,
    "start_time": "2023-06-05T09:24:02.143Z"
   },
   {
    "duration": 0,
    "start_time": "2023-06-05T09:24:02.144Z"
   },
   {
    "duration": 0,
    "start_time": "2023-06-05T09:24:02.156Z"
   },
   {
    "duration": 0,
    "start_time": "2023-06-05T09:24:02.157Z"
   },
   {
    "duration": 1,
    "start_time": "2023-06-05T09:24:02.158Z"
   },
   {
    "duration": 0,
    "start_time": "2023-06-05T09:24:02.160Z"
   },
   {
    "duration": 0,
    "start_time": "2023-06-05T09:24:02.161Z"
   },
   {
    "duration": 0,
    "start_time": "2023-06-05T09:24:02.162Z"
   },
   {
    "duration": 0,
    "start_time": "2023-06-05T09:24:02.163Z"
   },
   {
    "duration": 0,
    "start_time": "2023-06-05T09:24:02.164Z"
   },
   {
    "duration": 0,
    "start_time": "2023-06-05T09:24:02.164Z"
   },
   {
    "duration": 5,
    "start_time": "2023-06-05T09:24:18.369Z"
   },
   {
    "duration": 53,
    "start_time": "2023-06-05T09:24:19.899Z"
   },
   {
    "duration": 12,
    "start_time": "2023-06-05T09:24:21.193Z"
   },
   {
    "duration": 6,
    "start_time": "2023-06-05T09:24:22.154Z"
   },
   {
    "duration": 22,
    "start_time": "2023-06-05T09:24:24.503Z"
   },
   {
    "duration": 15,
    "start_time": "2023-06-05T09:24:25.938Z"
   },
   {
    "duration": 3,
    "start_time": "2023-06-05T09:24:27.156Z"
   },
   {
    "duration": 14,
    "start_time": "2023-06-05T09:24:29.639Z"
   },
   {
    "duration": 14,
    "start_time": "2023-06-05T09:24:32.432Z"
   },
   {
    "duration": 6,
    "start_time": "2023-06-05T09:24:34.199Z"
   },
   {
    "duration": 8,
    "start_time": "2023-06-05T09:24:35.853Z"
   },
   {
    "duration": 73,
    "start_time": "2023-06-05T09:24:58.587Z"
   },
   {
    "duration": 14,
    "start_time": "2023-06-05T09:25:10.054Z"
   },
   {
    "duration": 11,
    "start_time": "2023-06-05T09:27:28.227Z"
   },
   {
    "duration": 12,
    "start_time": "2023-06-05T09:27:44.689Z"
   },
   {
    "duration": 12,
    "start_time": "2023-06-05T09:28:13.299Z"
   },
   {
    "duration": 4,
    "start_time": "2023-06-05T09:28:46.665Z"
   },
   {
    "duration": 52,
    "start_time": "2023-06-05T09:28:48.106Z"
   },
   {
    "duration": 14,
    "start_time": "2023-06-05T09:28:49.289Z"
   },
   {
    "duration": 4,
    "start_time": "2023-06-05T09:28:50.325Z"
   },
   {
    "duration": 22,
    "start_time": "2023-06-05T09:28:52.305Z"
   },
   {
    "duration": 16,
    "start_time": "2023-06-05T09:28:53.668Z"
   },
   {
    "duration": 3,
    "start_time": "2023-06-05T09:28:54.833Z"
   },
   {
    "duration": 15,
    "start_time": "2023-06-05T09:28:57.725Z"
   },
   {
    "duration": 14,
    "start_time": "2023-06-05T09:29:01.369Z"
   },
   {
    "duration": 5,
    "start_time": "2023-06-05T09:29:08.510Z"
   },
   {
    "duration": 14,
    "start_time": "2023-06-05T09:29:09.827Z"
   },
   {
    "duration": 28,
    "start_time": "2023-06-05T09:29:29.885Z"
   },
   {
    "duration": 21,
    "start_time": "2023-06-05T09:33:32.791Z"
   },
   {
    "duration": 25,
    "start_time": "2023-06-05T09:33:43.485Z"
   },
   {
    "duration": 19,
    "start_time": "2023-06-05T09:33:45.351Z"
   },
   {
    "duration": 22,
    "start_time": "2023-06-05T09:35:31.700Z"
   },
   {
    "duration": 54,
    "start_time": "2023-06-05T09:40:36.144Z"
   },
   {
    "duration": 46,
    "start_time": "2023-06-05T09:40:54.448Z"
   },
   {
    "duration": 56,
    "start_time": "2023-06-05T09:42:59.088Z"
   },
   {
    "duration": 54,
    "start_time": "2023-06-05T09:49:20.121Z"
   },
   {
    "duration": 52,
    "start_time": "2023-06-05T09:49:25.608Z"
   },
   {
    "duration": 63,
    "start_time": "2023-06-05T09:49:57.535Z"
   },
   {
    "duration": 53,
    "start_time": "2023-06-05T09:50:11.088Z"
   },
   {
    "duration": 56,
    "start_time": "2023-06-05T09:50:47.781Z"
   },
   {
    "duration": 50,
    "start_time": "2023-06-05T09:51:26.024Z"
   },
   {
    "duration": 27,
    "start_time": "2023-06-05T09:51:32.847Z"
   },
   {
    "duration": 46,
    "start_time": "2023-06-05T09:52:14.995Z"
   },
   {
    "duration": 20,
    "start_time": "2023-06-05T09:52:33.916Z"
   },
   {
    "duration": 26,
    "start_time": "2023-06-05T09:52:53.548Z"
   },
   {
    "duration": 30,
    "start_time": "2023-06-05T09:53:55.707Z"
   },
   {
    "duration": 30,
    "start_time": "2023-06-05T09:54:47.535Z"
   },
   {
    "duration": 30,
    "start_time": "2023-06-05T10:31:12.468Z"
   },
   {
    "duration": 4,
    "start_time": "2023-06-05T10:31:38.226Z"
   },
   {
    "duration": 60,
    "start_time": "2023-06-05T10:31:39.616Z"
   },
   {
    "duration": 13,
    "start_time": "2023-06-05T10:31:40.467Z"
   },
   {
    "duration": 5,
    "start_time": "2023-06-05T10:31:41.343Z"
   },
   {
    "duration": 20,
    "start_time": "2023-06-05T10:31:43.073Z"
   },
   {
    "duration": 15,
    "start_time": "2023-06-05T10:31:44.405Z"
   },
   {
    "duration": 3,
    "start_time": "2023-06-05T10:31:45.363Z"
   },
   {
    "duration": 14,
    "start_time": "2023-06-05T10:31:47.930Z"
   },
   {
    "duration": 16,
    "start_time": "2023-06-05T10:31:50.331Z"
   },
   {
    "duration": 5,
    "start_time": "2023-06-05T10:31:51.804Z"
   },
   {
    "duration": 53,
    "start_time": "2023-06-05T10:31:52.858Z"
   },
   {
    "duration": 24,
    "start_time": "2023-06-05T10:32:02.095Z"
   },
   {
    "duration": 26,
    "start_time": "2023-06-05T10:32:52.668Z"
   },
   {
    "duration": 4,
    "start_time": "2023-06-05T10:33:03.213Z"
   },
   {
    "duration": 50,
    "start_time": "2023-06-05T10:33:04.502Z"
   },
   {
    "duration": 14,
    "start_time": "2023-06-05T10:33:05.383Z"
   },
   {
    "duration": 6,
    "start_time": "2023-06-05T10:33:06.238Z"
   },
   {
    "duration": 22,
    "start_time": "2023-06-05T10:33:07.834Z"
   },
   {
    "duration": 14,
    "start_time": "2023-06-05T10:33:09.133Z"
   },
   {
    "duration": 3,
    "start_time": "2023-06-05T10:33:10.056Z"
   },
   {
    "duration": 13,
    "start_time": "2023-06-05T10:33:12.186Z"
   },
   {
    "duration": 15,
    "start_time": "2023-06-05T10:33:14.407Z"
   },
   {
    "duration": 5,
    "start_time": "2023-06-05T10:33:15.884Z"
   },
   {
    "duration": 55,
    "start_time": "2023-06-05T10:33:16.907Z"
   },
   {
    "duration": 23,
    "start_time": "2023-06-05T10:33:18.007Z"
   },
   {
    "duration": 719,
    "start_time": "2023-06-05T10:33:23.755Z"
   },
   {
    "duration": 51418,
    "start_time": "2023-06-05T10:33:28.451Z"
   },
   {
    "duration": 3871,
    "start_time": "2023-06-05T10:34:25.987Z"
   },
   {
    "duration": 3690,
    "start_time": "2023-06-05T10:36:18.379Z"
   },
   {
    "duration": 372,
    "start_time": "2023-06-05T10:40:28.294Z"
   },
   {
    "duration": 206,
    "start_time": "2023-06-05T10:44:09.660Z"
   },
   {
    "duration": 76,
    "start_time": "2023-06-05T10:44:26.791Z"
   },
   {
    "duration": 26,
    "start_time": "2023-06-05T10:44:50.943Z"
   },
   {
    "duration": 4,
    "start_time": "2023-06-05T10:44:54.589Z"
   },
   {
    "duration": 5,
    "start_time": "2023-06-05T10:45:01.733Z"
   },
   {
    "duration": 17,
    "start_time": "2023-06-05T10:45:03.932Z"
   },
   {
    "duration": 874,
    "start_time": "2023-06-05T10:45:07.307Z"
   },
   {
    "duration": 350,
    "start_time": "2023-06-05T10:45:09.436Z"
   },
   {
    "duration": 68013,
    "start_time": "2023-06-05T10:45:13.234Z"
   },
   {
    "duration": 32739,
    "start_time": "2023-06-05T10:46:35.251Z"
   },
   {
    "duration": 190,
    "start_time": "2023-06-05T10:47:52.377Z"
   },
   {
    "duration": 160,
    "start_time": "2023-06-05T10:48:25.298Z"
   },
   {
    "duration": 21,
    "start_time": "2023-06-05T10:49:00.846Z"
   },
   {
    "duration": 19,
    "start_time": "2023-06-05T10:53:00.636Z"
   },
   {
    "duration": 30,
    "start_time": "2023-06-05T10:53:03.810Z"
   },
   {
    "duration": 140,
    "start_time": "2023-06-05T10:53:05.883Z"
   },
   {
    "duration": 4,
    "start_time": "2023-06-05T10:55:32.781Z"
   },
   {
    "duration": 51,
    "start_time": "2023-06-05T10:55:35.617Z"
   },
   {
    "duration": 12,
    "start_time": "2023-06-05T10:55:36.545Z"
   },
   {
    "duration": 5,
    "start_time": "2023-06-05T10:55:37.564Z"
   },
   {
    "duration": 21,
    "start_time": "2023-06-05T10:55:39.551Z"
   },
   {
    "duration": 13,
    "start_time": "2023-06-05T10:55:41.094Z"
   },
   {
    "duration": 2,
    "start_time": "2023-06-05T10:55:42.086Z"
   },
   {
    "duration": 13,
    "start_time": "2023-06-05T10:55:44.452Z"
   },
   {
    "duration": 15,
    "start_time": "2023-06-05T10:55:46.804Z"
   },
   {
    "duration": 6,
    "start_time": "2023-06-05T10:55:48.322Z"
   },
   {
    "duration": 49,
    "start_time": "2023-06-05T10:55:49.332Z"
   },
   {
    "duration": 20,
    "start_time": "2023-06-05T10:55:50.258Z"
   },
   {
    "duration": 749,
    "start_time": "2023-06-05T10:55:52.685Z"
   },
   {
    "duration": 51535,
    "start_time": "2023-06-05T10:55:55.227Z"
   },
   {
    "duration": 41,
    "start_time": "2023-06-05T10:56:49.923Z"
   },
   {
    "duration": 4,
    "start_time": "2023-06-05T10:56:54.083Z"
   },
   {
    "duration": 5,
    "start_time": "2023-06-05T10:56:55.082Z"
   },
   {
    "duration": 24,
    "start_time": "2023-06-05T10:56:55.574Z"
   },
   {
    "duration": 889,
    "start_time": "2023-06-05T10:56:57.471Z"
   },
   {
    "duration": 408,
    "start_time": "2023-06-05T10:57:01.058Z"
   },
   {
    "duration": 71744,
    "start_time": "2023-06-05T10:57:02.594Z"
   },
   {
    "duration": 35329,
    "start_time": "2023-06-05T11:00:51.632Z"
   },
   {
    "duration": 316,
    "start_time": "2023-06-05T11:01:35.547Z"
   },
   {
    "duration": 184,
    "start_time": "2023-06-05T11:01:36.677Z"
   },
   {
    "duration": 33,
    "start_time": "2023-06-05T11:01:40.756Z"
   },
   {
    "duration": 19,
    "start_time": "2023-06-05T11:01:42.842Z"
   },
   {
    "duration": 148,
    "start_time": "2023-06-05T11:01:44.348Z"
   },
   {
    "duration": 11,
    "start_time": "2023-06-05T11:01:47.200Z"
   },
   {
    "duration": 22,
    "start_time": "2023-06-05T11:02:47.656Z"
   },
   {
    "duration": 14,
    "start_time": "2023-06-05T11:02:50.878Z"
   },
   {
    "duration": 12,
    "start_time": "2023-06-05T11:03:26.169Z"
   },
   {
    "duration": 9,
    "start_time": "2023-06-05T11:03:41.298Z"
   },
   {
    "duration": 16,
    "start_time": "2023-06-05T11:05:34.129Z"
   },
   {
    "duration": 67,
    "start_time": "2023-06-05T11:05:35.882Z"
   },
   {
    "duration": 16,
    "start_time": "2023-06-05T11:05:36.723Z"
   },
   {
    "duration": 7,
    "start_time": "2023-06-05T11:05:37.501Z"
   },
   {
    "duration": 35,
    "start_time": "2023-06-05T11:05:39.070Z"
   },
   {
    "duration": 21,
    "start_time": "2023-06-05T11:05:40.277Z"
   },
   {
    "duration": 4,
    "start_time": "2023-06-05T11:05:41.078Z"
   },
   {
    "duration": 20,
    "start_time": "2023-06-05T11:05:43.130Z"
   },
   {
    "duration": 24,
    "start_time": "2023-06-05T11:05:45.702Z"
   },
   {
    "duration": 7,
    "start_time": "2023-06-05T11:05:46.978Z"
   },
   {
    "duration": 54,
    "start_time": "2023-06-05T11:05:47.792Z"
   },
   {
    "duration": 23,
    "start_time": "2023-06-05T11:05:48.525Z"
   },
   {
    "duration": 741,
    "start_time": "2023-06-05T11:05:51.468Z"
   },
   {
    "duration": 57074,
    "start_time": "2023-06-05T11:05:56.995Z"
   },
   {
    "duration": 397,
    "start_time": "2023-06-05T11:30:24.863Z"
   },
   {
    "duration": 6,
    "start_time": "2023-06-05T11:30:28.970Z"
   },
   {
    "duration": 5,
    "start_time": "2023-06-05T11:30:30.052Z"
   },
   {
    "duration": 16,
    "start_time": "2023-06-05T11:30:30.532Z"
   },
   {
    "duration": 888,
    "start_time": "2023-06-05T11:30:32.609Z"
   },
   {
    "duration": 370,
    "start_time": "2023-06-05T11:30:48.162Z"
   },
   {
    "duration": 66928,
    "start_time": "2023-06-05T11:30:49.413Z"
   },
   {
    "duration": 69383,
    "start_time": "2023-06-05T11:33:00.786Z"
   },
   {
    "duration": 578,
    "start_time": "2023-06-05T11:34:27.178Z"
   },
   {
    "duration": 87,
    "start_time": "2023-06-05T11:34:28.474Z"
   },
   {
    "duration": 21,
    "start_time": "2023-06-05T11:34:39.117Z"
   },
   {
    "duration": 10,
    "start_time": "2023-06-05T11:34:52.028Z"
   },
   {
    "duration": 127,
    "start_time": "2023-06-05T11:34:53.346Z"
   },
   {
    "duration": 7,
    "start_time": "2023-06-05T11:34:55.030Z"
   },
   {
    "duration": 6,
    "start_time": "2023-06-05T11:34:56.656Z"
   },
   {
    "duration": 4,
    "start_time": "2023-06-05T11:36:07.974Z"
   },
   {
    "duration": 6,
    "start_time": "2023-06-05T11:37:28.952Z"
   },
   {
    "duration": 5,
    "start_time": "2023-06-05T11:38:45.942Z"
   },
   {
    "duration": 4,
    "start_time": "2023-06-05T11:38:47.785Z"
   },
   {
    "duration": 3,
    "start_time": "2023-06-05T11:43:06.319Z"
   },
   {
    "duration": 5,
    "start_time": "2023-06-05T11:45:01.644Z"
   },
   {
    "duration": 6,
    "start_time": "2023-06-05T11:45:05.285Z"
   },
   {
    "duration": 63,
    "start_time": "2023-06-05T17:12:25.549Z"
   }
  ],
  "kernelspec": {
   "display_name": "Python 3 (ipykernel)",
   "language": "python",
   "name": "python3"
  },
  "language_info": {
   "codemirror_mode": {
    "name": "ipython",
    "version": 3
   },
   "file_extension": ".py",
   "mimetype": "text/x-python",
   "name": "python",
   "nbconvert_exporter": "python",
   "pygments_lexer": "ipython3",
   "version": "3.9.5"
  },
  "toc": {
   "base_numbering": 1,
   "nav_menu": {},
   "number_sections": true,
   "sideBar": true,
   "skip_h1_title": true,
   "title_cell": "Содержание",
   "title_sidebar": "Contents",
   "toc_cell": true,
   "toc_position": {},
   "toc_section_display": true,
   "toc_window_display": false
  }
 },
 "nbformat": 4,
 "nbformat_minor": 2
}
